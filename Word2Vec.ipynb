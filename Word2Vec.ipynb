{
 "cells": [
  {
   "cell_type": "code",
   "execution_count": 1,
   "id": "616514bb",
   "metadata": {},
   "outputs": [
    {
     "ename": "ModuleNotFoundError",
     "evalue": "No module named 'umap'",
     "output_type": "error",
     "traceback": [
      "\u001b[0;31m---------------------------------------------------------------------------\u001b[0m",
      "\u001b[0;31mModuleNotFoundError\u001b[0m                       Traceback (most recent call last)",
      "Cell \u001b[0;32mIn[1], line 5\u001b[0m\n\u001b[1;32m      3\u001b[0m \u001b[38;5;28;01mimport\u001b[39;00m \u001b[38;5;21;01mpandas\u001b[39;00m \u001b[38;5;28;01mas\u001b[39;00m \u001b[38;5;21;01mpd\u001b[39;00m\n\u001b[1;32m      4\u001b[0m \u001b[38;5;28;01mfrom\u001b[39;00m \u001b[38;5;21;01mgensim\u001b[39;00m\u001b[38;5;21;01m.\u001b[39;00m\u001b[38;5;21;01mmodels\u001b[39;00m \u001b[38;5;28;01mimport\u001b[39;00m Word2Vec\n\u001b[0;32m----> 5\u001b[0m \u001b[38;5;28;01mimport\u001b[39;00m \u001b[38;5;21;01mumap\u001b[39;00m\n",
      "\u001b[0;31mModuleNotFoundError\u001b[0m: No module named 'umap'"
     ]
    }
   ],
   "source": [
    "from sklearn.feature_extraction.text import CountVectorizer\n",
    "import numpy as np\n",
    "import pandas as pd\n",
    "from gensim.models import Word2Vec\n",
    "import umap"
   ]
  },
  {
   "cell_type": "code",
   "execution_count": null,
   "id": "20fdcf90",
   "metadata": {},
   "outputs": [],
   "source": [
    "data = pd.read_csv('filtered_data.csv')\n",
    "data.head()"
   ]
  },
  {
   "cell_type": "markdown",
   "id": "d4ac17b2",
   "metadata": {},
   "source": [
    "## Training Word2Vec Model"
   ]
  },
  {
   "cell_type": "code",
   "execution_count": null,
   "id": "2d3b729f",
   "metadata": {},
   "outputs": [],
   "source": [
    "seq_list = list(data['seq'])\n",
    "len(seq_list)"
   ]
  },
  {
   "cell_type": "code",
   "execution_count": null,
   "id": "afa8449b",
   "metadata": {},
   "outputs": [],
   "source": [
    "def kmerize_sequence(sequence, k):\n",
    "    \"\"\" Convert a sequence into k-mers of specified length. \"\"\"\n",
    "    return [sequence[i:i+k] for i in range(len(sequence) - k + 1)]"
   ]
  },
  {
   "cell_type": "code",
   "execution_count": null,
   "id": "3475b1c0",
   "metadata": {},
   "outputs": [],
   "source": [
    "k = 6  \n",
    "kmerized_sequences = [' '.join(kmerize_sequence(seq, k)) for seq in seq_list]"
   ]
  },
  {
   "cell_type": "code",
   "execution_count": null,
   "id": "c47c41d1",
   "metadata": {},
   "outputs": [],
   "source": [
    "tokenized_sequences = [seq.split() for seq in kmerized_sequences]"
   ]
  },
  {
   "cell_type": "code",
   "execution_count": null,
   "id": "a32c51be",
   "metadata": {},
   "outputs": [],
   "source": [
    "model = Word2Vec(sentences=tokenized_sequences, vector_size=100, window=6, min_count=1, workers=4)"
   ]
  },
  {
   "cell_type": "code",
   "execution_count": null,
   "id": "8147bc36",
   "metadata": {},
   "outputs": [],
   "source": [
    "model.save(\"word2vec_promoter.model\")"
   ]
  },
  {
   "cell_type": "markdown",
   "id": "1640df7e",
   "metadata": {},
   "source": [
    "## Generating Embeddings"
   ]
  },
  {
   "cell_type": "code",
   "execution_count": null,
   "id": "e550be90",
   "metadata": {},
   "outputs": [],
   "source": [
    "def sequence_embedding(sequence, model):\n",
    "    k_mers = sequence.split()\n",
    "    embeddings = [model.wv[k_mer] for k_mer in k_mers if k_mer in model.wv]\n",
    "    return np.mean(embeddings, axis=0)\n",
    "\n",
    "sequence_embeddings = [sequence_embedding(seq, model) for seq in kmerized_sequences]"
   ]
  },
  {
   "cell_type": "code",
   "execution_count": null,
   "id": "e625ce20",
   "metadata": {},
   "outputs": [],
   "source": [
    "len(sequence_embeddings)"
   ]
  },
  {
   "cell_type": "code",
   "execution_count": null,
   "id": "1ce82cfb",
   "metadata": {},
   "outputs": [],
   "source": [
    "import matplotlib.pyplot as plt\n",
    "from sklearn.manifold import TSNE\n",
    "\n",
    "# Assuming `sequence_embeddings` is your list of embeddings\n",
    "X = np.array(sequence_embeddings)  # Convert to a numpy array\n",
    "\n",
    "# Initialize and fit t-SNE\n",
    "tsne = TSNE(n_components=2, random_state=42)\n",
    "X_tsne = tsne.fit_transform(X)\n",
    "\n",
    "# Plot\n",
    "plt.figure(figsize=(12, 8))\n",
    "plt.scatter(X_tsne[:, 0], X_tsne[:, 1], alpha=0.5)\n",
    "plt.title('t-SNE visualization of Sequence Embeddings')\n",
    "plt.xlabel('t-SNE feature 1')\n",
    "plt.ylabel('t-SNE feature 2')\n",
    "plt.show()"
   ]
  },
  {
   "cell_type": "code",
   "execution_count": null,
   "id": "a8aa984a",
   "metadata": {},
   "outputs": [],
   "source": [
    "import umap\n",
    "import matplotlib.pyplot as plt\n",
    "\n",
    "# Assuming `sequence_embeddings` is your list of embeddings\n",
    "X = np.array(sequence_embeddings)  # Convert to a numpy array\n",
    "\n",
    "# Initialize and fit UMAP\n",
    "reducer = umap.UMAP(random_state=42)\n",
    "X_umap = reducer.fit_transform(X)\n",
    "\n",
    "# Plot\n",
    "plt.figure(figsize=(12, 8))\n",
    "plt.scatter(X_umap[:, 0], X_umap[:, 1], alpha=0.5)\n",
    "plt.title('UMAP visualization of Sequence Embeddings')\n",
    "plt.xlabel('UMAP feature 1')\n",
    "plt.ylabel('UMAP feature 2')\n",
    "plt.show()"
   ]
  },
  {
   "cell_type": "code",
   "execution_count": null,
   "id": "10d02c61",
   "metadata": {},
   "outputs": [],
   "source": []
  }
 ],
 "metadata": {
  "kernelspec": {
   "display_name": "Python 3 (ipykernel)",
   "language": "python",
   "name": "python3"
  },
  "language_info": {
   "codemirror_mode": {
    "name": "ipython",
    "version": 3
   },
   "file_extension": ".py",
   "mimetype": "text/x-python",
   "name": "python",
   "nbconvert_exporter": "python",
   "pygments_lexer": "ipython3",
   "version": "3.11.3"
  }
 },
 "nbformat": 4,
 "nbformat_minor": 5
}
