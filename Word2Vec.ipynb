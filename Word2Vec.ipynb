{
 "cells": [
  {
   "cell_type": "code",
   "execution_count": 19,
   "id": "abd21337",
   "metadata": {},
   "outputs": [],
   "source": [
    "from sklearn.feature_extraction.text import CountVectorizer\n",
    "import numpy as np\n",
    "import pandas as pd\n",
    "from gensim.models import Word2Vec"
   ]
  },
  {
   "cell_type": "code",
   "execution_count": 20,
   "id": "d5d1e921",
   "metadata": {},
   "outputs": [
    {
     "data": {
      "text/html": [
       "<div>\n",
       "<style scoped>\n",
       "    .dataframe tbody tr th:only-of-type {\n",
       "        vertical-align: middle;\n",
       "    }\n",
       "\n",
       "    .dataframe tbody tr th {\n",
       "        vertical-align: top;\n",
       "    }\n",
       "\n",
       "    .dataframe thead th {\n",
       "        text-align: right;\n",
       "    }\n",
       "</style>\n",
       "<table border=\"1\" class=\"dataframe\">\n",
       "  <thead>\n",
       "    <tr style=\"text-align: right;\">\n",
       "      <th></th>\n",
       "      <th>seq</th>\n",
       "      <th>log2_foldchange</th>\n",
       "    </tr>\n",
       "  </thead>\n",
       "  <tbody>\n",
       "    <tr>\n",
       "      <th>0</th>\n",
       "      <td>AAGGGCCGTCGGTGATTTTAGTCTTCCTCAGTGGTTACCAGGTCTC...</td>\n",
       "      <td>-1.807355</td>\n",
       "    </tr>\n",
       "    <tr>\n",
       "      <th>1</th>\n",
       "      <td>AATCCGCAATTCTCACAGTGACGTGGGCGTGGCTCCCCACCAATGA...</td>\n",
       "      <td>-1.637430</td>\n",
       "    </tr>\n",
       "    <tr>\n",
       "      <th>2</th>\n",
       "      <td>CGAAGCGAGAGCACGGGAGACCAGAGTGGCCCCTAGGAGGGCCGTT...</td>\n",
       "      <td>-0.436099</td>\n",
       "    </tr>\n",
       "    <tr>\n",
       "      <th>3</th>\n",
       "      <td>ATAGCTTAAGTGTGATTCACTCTGAGTCATTTACTGCTGCTGCTGC...</td>\n",
       "      <td>-0.868755</td>\n",
       "    </tr>\n",
       "    <tr>\n",
       "      <th>4</th>\n",
       "      <td>AATCAAACCCTCTGTCGTCAAGACTCCCCGCCCCACCCACCTTTCC...</td>\n",
       "      <td>0.550197</td>\n",
       "    </tr>\n",
       "  </tbody>\n",
       "</table>\n",
       "</div>"
      ],
      "text/plain": [
       "                                                 seq  log2_foldchange\n",
       "0  AAGGGCCGTCGGTGATTTTAGTCTTCCTCAGTGGTTACCAGGTCTC...        -1.807355\n",
       "1  AATCCGCAATTCTCACAGTGACGTGGGCGTGGCTCCCCACCAATGA...        -1.637430\n",
       "2  CGAAGCGAGAGCACGGGAGACCAGAGTGGCCCCTAGGAGGGCCGTT...        -0.436099\n",
       "3  ATAGCTTAAGTGTGATTCACTCTGAGTCATTTACTGCTGCTGCTGC...        -0.868755\n",
       "4  AATCAAACCCTCTGTCGTCAAGACTCCCCGCCCCACCCACCTTTCC...         0.550197"
      ]
     },
     "execution_count": 20,
     "metadata": {},
     "output_type": "execute_result"
    }
   ],
   "source": [
    "data = pd.read_csv('filtered_data.csv')\n",
    "data.head()"
   ]
  },
  {
   "cell_type": "markdown",
   "id": "74f5abb7",
   "metadata": {},
   "source": [
    "## Training Word2Vec Model"
   ]
  },
  {
   "cell_type": "code",
   "execution_count": 30,
   "id": "2409e344",
   "metadata": {},
   "outputs": [
    {
     "data": {
      "text/plain": [
       "54383"
      ]
     },
     "execution_count": 30,
     "metadata": {},
     "output_type": "execute_result"
    }
   ],
   "source": [
    "seq_list = list(data['seq'])\n",
    "len(seq_list)"
   ]
  },
  {
   "cell_type": "code",
   "execution_count": 22,
   "id": "0d284c0d",
   "metadata": {},
   "outputs": [],
   "source": [
    "def kmerize_sequence(sequence, k):\n",
    "    \"\"\" Convert a sequence into k-mers of specified length. \"\"\"\n",
    "    return [sequence[i:i+k] for i in range(len(sequence) - k + 1)]"
   ]
  },
  {
   "cell_type": "code",
   "execution_count": 23,
   "id": "611d4115",
   "metadata": {},
   "outputs": [],
   "source": [
    "k = 6  \n",
    "kmerized_sequences = [' '.join(kmerize_sequence(seq, k)) for seq in seq_list]"
   ]
  },
  {
   "cell_type": "code",
   "execution_count": 24,
   "id": "f87a95e4",
   "metadata": {},
   "outputs": [],
   "source": [
    "tokenized_sequences = [seq.split() for seq in kmerized_sequences]"
   ]
  },
  {
   "cell_type": "code",
   "execution_count": 25,
   "id": "23ec07c5",
   "metadata": {},
   "outputs": [],
   "source": [
    "model = Word2Vec(sentences=tokenized_sequences, vector_size=100, window=6, min_count=1, workers=4)"
   ]
  },
  {
   "cell_type": "code",
   "execution_count": 26,
   "id": "30da9f2d",
   "metadata": {},
   "outputs": [],
   "source": [
    "model.save(\"word2vec_promoter.model\")"
   ]
  },
  {
   "cell_type": "markdown",
   "id": "0b763fc9",
   "metadata": {},
   "source": [
    "## Generating Embeddings"
   ]
  },
  {
   "cell_type": "code",
   "execution_count": 27,
   "id": "d34ed7f9",
   "metadata": {},
   "outputs": [],
   "source": [
    "def sequence_embedding(sequence, model):\n",
    "    k_mers = sequence.split()\n",
    "    embeddings = [model.wv[k_mer] for k_mer in k_mers if k_mer in model.wv]\n",
    "    return np.mean(embeddings, axis=0)\n",
    "\n",
    "sequence_embeddings = [sequence_embedding(seq, model) for seq in kmerized_sequences]"
   ]
  },
  {
   "cell_type": "code",
   "execution_count": 29,
   "id": "525c75b4",
   "metadata": {},
   "outputs": [
    {
     "data": {
      "text/plain": [
       "54383"
      ]
     },
     "execution_count": 29,
     "metadata": {},
     "output_type": "execute_result"
    }
   ],
   "source": [
    "len(sequence_embeddings)"
   ]
  },
  {
   "cell_type": "code",
   "execution_count": null,
   "id": "dd70f105",
   "metadata": {},
   "outputs": [],
   "source": [
    "import matplotlib.pyplot as plt\n",
    "from sklearn.manifold import TSNE\n",
    "\n",
    "# Assuming `sequence_embeddings` is your list of embeddings\n",
    "X = np.array(sequence_embeddings)  # Convert to a numpy array\n",
    "\n",
    "# Initialize and fit t-SNE\n",
    "tsne = TSNE(n_components=2, random_state=42)\n",
    "X_tsne = tsne.fit_transform(X)\n",
    "\n",
    "# Plot\n",
    "plt.figure(figsize=(12, 8))\n",
    "plt.scatter(X_tsne[:, 0], X_tsne[:, 1], alpha=0.5)\n",
    "plt.title('t-SNE visualization of Sequence Embeddings')\n",
    "plt.xlabel('t-SNE feature 1')\n",
    "plt.ylabel('t-SNE feature 2')\n",
    "plt.show()"
   ]
  },
  {
   "cell_type": "code",
   "execution_count": null,
   "id": "e2eff291",
   "metadata": {},
   "outputs": [],
   "source": [
    "import umap\n",
    "import matplotlib.pyplot as plt\n",
    "\n",
    "# Assuming `sequence_embeddings` is your list of embeddings\n",
    "X = np.array(sequence_embeddings)  # Convert to a numpy array\n",
    "\n",
    "# Initialize and fit UMAP\n",
    "reducer = umap.UMAP(random_state=42)\n",
    "X_umap = reducer.fit_transform(X)\n",
    "\n",
    "# Plot\n",
    "plt.figure(figsize=(12, 8))\n",
    "plt.scatter(X_umap[:, 0], X_umap[:, 1], alpha=0.5)\n",
    "plt.title('UMAP visualization of Sequence Embeddings')\n",
    "plt.xlabel('UMAP feature 1')\n",
    "plt.ylabel('UMAP feature 2')\n",
    "plt.show()"
   ]
  },
  {
   "cell_type": "code",
   "execution_count": null,
   "id": "4c234d73",
   "metadata": {},
   "outputs": [],
   "source": []
  }
 ],
 "metadata": {
  "kernelspec": {
   "display_name": "Python 3 (ipykernel)",
   "language": "python",
   "name": "python3"
  },
  "language_info": {
   "codemirror_mode": {
    "name": "ipython",
    "version": 3
   },
   "file_extension": ".py",
   "mimetype": "text/x-python",
   "name": "python",
   "nbconvert_exporter": "python",
   "pygments_lexer": "ipython3",
   "version": "3.11.3"
  }
 },
 "nbformat": 4,
 "nbformat_minor": 5
}
