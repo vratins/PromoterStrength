{
 "cells": [
  {
   "cell_type": "markdown",
   "metadata": {},
   "source": [
    "# Classification Data Preprocessing"
   ]
  },
  {
   "cell_type": "markdown",
   "metadata": {},
   "source": []
  },
  {
   "cell_type": "markdown",
   "metadata": {},
   "source": [
    "### Imports"
   ]
  },
  {
   "cell_type": "code",
   "execution_count": 1,
   "metadata": {},
   "outputs": [],
   "source": [
    "import pandas as pd"
   ]
  },
  {
   "cell_type": "code",
   "execution_count": 2,
   "metadata": {},
   "outputs": [],
   "source": [
    "file_path = 'classification.fasta'\n",
    "with open(file_path, 'r') as file:\n",
    "    # Read all lines into a list\n",
    "    lines = file.readlines()"
   ]
  },
  {
   "cell_type": "code",
   "execution_count": 3,
   "metadata": {},
   "outputs": [],
   "source": [
    "strengths = []\n",
    "sequences = []\n",
    "\n",
    "# Iterate through all the lines of the file\n",
    "for i in range(len(lines)):\n",
    "    line = lines[i]\n",
    "\n",
    "    # Identifies the header for each fasta\n",
    "    if line[0][0] == \">\":\n",
    "\n",
    "        # Identifies whether if it's weak or strong\n",
    "        if line.split()[-1] == \"Weak\" or line.split()[-1] == \"Strong\":\n",
    "\n",
    "            # Assigns 0 in the case of weak promoter\n",
    "            if line.split()[-1] == \"Weak\":\n",
    "                strength = 0\n",
    "            # Assigns 1 in case of strong promoter\n",
    "            else:\n",
    "                strength = 1\n",
    "\n",
    "            # Saves the following lines as the correpsonding sequnces for that weak/strong promoter\n",
    "            if lines[i+1] != len(lines):\n",
    "                seq = lines[i+1].split(\">\")[0]\n",
    "                if lines[i+2] != len(lines):\n",
    "                    seq += lines[i+2].split(\">\")[0]\n",
    "                    i += 1\n",
    "                i += 1\n",
    "            \n",
    "            # Saves the stregth and sequence into a list\n",
    "            strengths.append(strength)\n",
    "            sequences.append(seq)\n",
    "        \n",
    "        # Idetifies the non-promoter\n",
    "        elif line.split()[0] == \">non-promoter\":\n",
    "\n",
    "            # Assigns stregth of -1 in case of non-promoter\n",
    "            strength = -1\n",
    "\n",
    "            # Saves the follwoing lines as the sequence for the non-promoter\n",
    "            if i+1 > len(lines):\n",
    "                seq = lines[i+1].split(\">\")[0]\n",
    "                if i+2 > len(lines):\n",
    "                    seq += lines[i+2].split(\">\")[0]\n",
    "                    i += 1\n",
    "                i += 1\n",
    "            \n",
    "            # Saves the stregth and sequence into a list\n",
    "            strengths.append(strength)\n",
    "            sequences.append(seq)\n",
    "        \n",
    "        # When there is a glitch in the fasta file\n",
    "        else:\n",
    "            if lines[i+1] != len(lines):\n",
    "                seq = lines[i+1].split(\"<\")[0]\n",
    "                if lines[i+2] != len(lines):\n",
    "                    seq += lines[i+2].split(\"<\")[0]\n",
    "                    i += 1\n",
    "                i += 1\n",
    "\n",
    "# Saves the sequences and its correspondting strengths into a dataframe\n",
    "data = {'Sequences': sequences, \"Strengths\": strengths}\n",
    "df = pd.DataFrame(data)\n",
    "\n",
    "# Places the dataframe into a csv called promoter_processed\n",
    "# output_csv_path = 'promoter_processed.csv'\n",
    "output_csv_path = 'classification_fasta_processed.csv'\n",
    "df.to_csv(output_csv_path, index=False)"
   ]
  }
 ],
 "metadata": {
  "kernelspec": {
   "display_name": "research-env",
   "language": "python",
   "name": "python3"
  },
  "language_info": {
   "codemirror_mode": {
    "name": "ipython",
    "version": 3
   },
   "file_extension": ".py",
   "mimetype": "text/x-python",
   "name": "python",
   "nbconvert_exporter": "python",
   "pygments_lexer": "ipython3",
   "version": "3.9.7"
  }
 },
 "nbformat": 4,
 "nbformat_minor": 2
}
