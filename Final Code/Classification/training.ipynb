{
 "cells": [
  {
   "cell_type": "markdown",
   "metadata": {},
   "source": [
    "# Identifying the Best Classification Method "
   ]
  },
  {
   "cell_type": "markdown",
   "metadata": {},
   "source": [
    "## Imports"
   ]
  },
  {
   "cell_type": "code",
   "execution_count": 1,
   "metadata": {},
   "outputs": [],
   "source": [
    "import numpy as np\n",
    "import pandas as pd\n",
    "import matplotlib.pyplot as plt\n",
    "import seaborn as sns\n",
    "\n",
    "from sklearn.model_selection import train_test_split, GridSearchCV\n",
    "from sklearn.metrics import accuracy_score, classification_report, confusion_matrix, f1_score, recall_score, precision_score\n",
    "import xgboost as xgb\n",
    "from sklearn.ensemble import RandomForestClassifier\n",
    "from sklearn import svm\n",
    "from sklearn.feature_selection import RFECV\n",
    "from sklearn.svm import SVC\n",
    "from sklearn.tree import DecisionTreeClassifier\n",
    "from sklearn.neighbors import KNeighborsClassifier\n",
    "from sklearn.naive_bayes import GaussianNB\n",
    "from sklearn.ensemble import AdaBoostClassifier\n",
    "from sklearn.discriminant_analysis import LinearDiscriminantAnalysis\n",
    "from sklearn.linear_model import LogisticRegression\n",
    "from sklearn.utils import resample"
   ]
  },
  {
   "cell_type": "markdown",
   "metadata": {},
   "source": [
    "## Data Retreiving"
   ]
  },
  {
   "cell_type": "code",
   "execution_count": 2,
   "metadata": {},
   "outputs": [
    {
     "name": "stdout",
     "output_type": "stream",
     "text": [
      "Y Shape:  (6646, 2)\n",
      "Embeddings Shape:  (6646, 1280)\n"
     ]
    }
   ],
   "source": [
    "y = pd.read_csv('classification_fasta_processed.csv')\n",
    "embeddings = np.load('all_embeddings_100m_mean.npy')\n",
    "print(\"Y Shape: \", y.shape)\n",
    "print(\"Embeddings Shape: \", embeddings.shape)"
   ]
  },
  {
   "cell_type": "code",
   "execution_count": 3,
   "metadata": {},
   "outputs": [
    {
     "data": {
      "text/html": [
       "<div>\n",
       "<style scoped>\n",
       "    .dataframe tbody tr th:only-of-type {\n",
       "        vertical-align: middle;\n",
       "    }\n",
       "\n",
       "    .dataframe tbody tr th {\n",
       "        vertical-align: top;\n",
       "    }\n",
       "\n",
       "    .dataframe thead th {\n",
       "        text-align: right;\n",
       "    }\n",
       "</style>\n",
       "<table border=\"1\" class=\"dataframe\">\n",
       "  <thead>\n",
       "    <tr style=\"text-align: right;\">\n",
       "      <th></th>\n",
       "      <th>Sequences</th>\n",
       "      <th>Strengths</th>\n",
       "      <th>feature_0</th>\n",
       "      <th>feature_1</th>\n",
       "      <th>feature_2</th>\n",
       "      <th>feature_3</th>\n",
       "      <th>feature_4</th>\n",
       "      <th>feature_5</th>\n",
       "      <th>feature_6</th>\n",
       "      <th>feature_7</th>\n",
       "      <th>...</th>\n",
       "      <th>feature_1270</th>\n",
       "      <th>feature_1271</th>\n",
       "      <th>feature_1272</th>\n",
       "      <th>feature_1273</th>\n",
       "      <th>feature_1274</th>\n",
       "      <th>feature_1275</th>\n",
       "      <th>feature_1276</th>\n",
       "      <th>feature_1277</th>\n",
       "      <th>feature_1278</th>\n",
       "      <th>feature_1279</th>\n",
       "    </tr>\n",
       "  </thead>\n",
       "  <tbody>\n",
       "    <tr>\n",
       "      <th>0</th>\n",
       "      <td>tagatgtccttgattaacaccaaaattaaaccttttaaaaaccagg...</td>\n",
       "      <td>1</td>\n",
       "      <td>-0.936847</td>\n",
       "      <td>-0.781433</td>\n",
       "      <td>-0.525665</td>\n",
       "      <td>-0.327091</td>\n",
       "      <td>-0.618907</td>\n",
       "      <td>-0.142214</td>\n",
       "      <td>0.555200</td>\n",
       "      <td>-0.227962</td>\n",
       "      <td>...</td>\n",
       "      <td>0.693298</td>\n",
       "      <td>-0.431873</td>\n",
       "      <td>-0.034174</td>\n",
       "      <td>0.701798</td>\n",
       "      <td>-0.867468</td>\n",
       "      <td>-0.268788</td>\n",
       "      <td>-0.084448</td>\n",
       "      <td>0.357413</td>\n",
       "      <td>-0.061708</td>\n",
       "      <td>-0.153779</td>\n",
       "    </tr>\n",
       "    <tr>\n",
       "      <th>1</th>\n",
       "      <td>aaagaaaataattaattttacagctgttaaaccaaacggttataac...</td>\n",
       "      <td>1</td>\n",
       "      <td>-0.946999</td>\n",
       "      <td>-0.824914</td>\n",
       "      <td>-0.470066</td>\n",
       "      <td>-0.244439</td>\n",
       "      <td>-0.711039</td>\n",
       "      <td>-0.126911</td>\n",
       "      <td>0.556981</td>\n",
       "      <td>-0.249472</td>\n",
       "      <td>...</td>\n",
       "      <td>0.678970</td>\n",
       "      <td>-0.519048</td>\n",
       "      <td>-0.002377</td>\n",
       "      <td>0.652751</td>\n",
       "      <td>-0.911779</td>\n",
       "      <td>-0.233074</td>\n",
       "      <td>0.052144</td>\n",
       "      <td>0.210270</td>\n",
       "      <td>-0.042073</td>\n",
       "      <td>-0.101237</td>\n",
       "    </tr>\n",
       "    <tr>\n",
       "      <th>2</th>\n",
       "      <td>ctgctgttccttgcgatcgaaaagatcaagggcggaccggtatccg...</td>\n",
       "      <td>1</td>\n",
       "      <td>-0.946999</td>\n",
       "      <td>-0.824914</td>\n",
       "      <td>-0.470066</td>\n",
       "      <td>-0.244439</td>\n",
       "      <td>-0.711039</td>\n",
       "      <td>-0.126911</td>\n",
       "      <td>0.556981</td>\n",
       "      <td>-0.249472</td>\n",
       "      <td>...</td>\n",
       "      <td>0.678970</td>\n",
       "      <td>-0.519048</td>\n",
       "      <td>-0.002377</td>\n",
       "      <td>0.652751</td>\n",
       "      <td>-0.911779</td>\n",
       "      <td>-0.233074</td>\n",
       "      <td>0.052144</td>\n",
       "      <td>0.210270</td>\n",
       "      <td>-0.042073</td>\n",
       "      <td>-0.101237</td>\n",
       "    </tr>\n",
       "    <tr>\n",
       "      <th>3</th>\n",
       "      <td>gcggaagcacaaattgcaccaggtacggaactaaaagccgtagatg...</td>\n",
       "      <td>1</td>\n",
       "      <td>-0.936847</td>\n",
       "      <td>-0.781433</td>\n",
       "      <td>-0.525665</td>\n",
       "      <td>-0.327091</td>\n",
       "      <td>-0.618907</td>\n",
       "      <td>-0.142214</td>\n",
       "      <td>0.555200</td>\n",
       "      <td>-0.227962</td>\n",
       "      <td>...</td>\n",
       "      <td>0.693298</td>\n",
       "      <td>-0.431873</td>\n",
       "      <td>-0.034174</td>\n",
       "      <td>0.701798</td>\n",
       "      <td>-0.867468</td>\n",
       "      <td>-0.268788</td>\n",
       "      <td>-0.084448</td>\n",
       "      <td>0.357413</td>\n",
       "      <td>-0.061708</td>\n",
       "      <td>-0.153779</td>\n",
       "    </tr>\n",
       "    <tr>\n",
       "      <th>4</th>\n",
       "      <td>aaatacttatggtgcgctggcttctttggaacttgcgcagcaattt...</td>\n",
       "      <td>1</td>\n",
       "      <td>-0.939334</td>\n",
       "      <td>-0.752792</td>\n",
       "      <td>-0.355315</td>\n",
       "      <td>-0.209782</td>\n",
       "      <td>-0.644720</td>\n",
       "      <td>-0.147364</td>\n",
       "      <td>0.547578</td>\n",
       "      <td>-0.244620</td>\n",
       "      <td>...</td>\n",
       "      <td>0.592513</td>\n",
       "      <td>-0.447916</td>\n",
       "      <td>-0.154701</td>\n",
       "      <td>0.645616</td>\n",
       "      <td>-0.978199</td>\n",
       "      <td>-0.352725</td>\n",
       "      <td>0.029607</td>\n",
       "      <td>0.186247</td>\n",
       "      <td>-0.076592</td>\n",
       "      <td>-0.107114</td>\n",
       "    </tr>\n",
       "    <tr>\n",
       "      <th>...</th>\n",
       "      <td>...</td>\n",
       "      <td>...</td>\n",
       "      <td>...</td>\n",
       "      <td>...</td>\n",
       "      <td>...</td>\n",
       "      <td>...</td>\n",
       "      <td>...</td>\n",
       "      <td>...</td>\n",
       "      <td>...</td>\n",
       "      <td>...</td>\n",
       "      <td>...</td>\n",
       "      <td>...</td>\n",
       "      <td>...</td>\n",
       "      <td>...</td>\n",
       "      <td>...</td>\n",
       "      <td>...</td>\n",
       "      <td>...</td>\n",
       "      <td>...</td>\n",
       "      <td>...</td>\n",
       "      <td>...</td>\n",
       "      <td>...</td>\n",
       "    </tr>\n",
       "    <tr>\n",
       "      <th>6641</th>\n",
       "      <td>gatactagatgtagttgaaaaaagattcaaccacacaatatatagc...</td>\n",
       "      <td>-1</td>\n",
       "      <td>-0.939334</td>\n",
       "      <td>-0.752792</td>\n",
       "      <td>-0.355315</td>\n",
       "      <td>-0.209782</td>\n",
       "      <td>-0.644720</td>\n",
       "      <td>-0.147364</td>\n",
       "      <td>0.547578</td>\n",
       "      <td>-0.244620</td>\n",
       "      <td>...</td>\n",
       "      <td>0.592513</td>\n",
       "      <td>-0.447916</td>\n",
       "      <td>-0.154701</td>\n",
       "      <td>0.645616</td>\n",
       "      <td>-0.978199</td>\n",
       "      <td>-0.352725</td>\n",
       "      <td>0.029607</td>\n",
       "      <td>0.186247</td>\n",
       "      <td>-0.076592</td>\n",
       "      <td>-0.107114</td>\n",
       "    </tr>\n",
       "    <tr>\n",
       "      <th>6642</th>\n",
       "      <td>gatactagatgtagttgaaaaaagattcaaccacacaatatatagc...</td>\n",
       "      <td>-1</td>\n",
       "      <td>-0.939334</td>\n",
       "      <td>-0.752792</td>\n",
       "      <td>-0.355315</td>\n",
       "      <td>-0.209782</td>\n",
       "      <td>-0.644720</td>\n",
       "      <td>-0.147364</td>\n",
       "      <td>0.547578</td>\n",
       "      <td>-0.244620</td>\n",
       "      <td>...</td>\n",
       "      <td>0.592513</td>\n",
       "      <td>-0.447916</td>\n",
       "      <td>-0.154701</td>\n",
       "      <td>0.645616</td>\n",
       "      <td>-0.978199</td>\n",
       "      <td>-0.352725</td>\n",
       "      <td>0.029607</td>\n",
       "      <td>0.186247</td>\n",
       "      <td>-0.076592</td>\n",
       "      <td>-0.107114</td>\n",
       "    </tr>\n",
       "    <tr>\n",
       "      <th>6643</th>\n",
       "      <td>gatactagatgtagttgaaaaaagattcaaccacacaatatatagc...</td>\n",
       "      <td>-1</td>\n",
       "      <td>-0.939334</td>\n",
       "      <td>-0.752792</td>\n",
       "      <td>-0.355315</td>\n",
       "      <td>-0.209782</td>\n",
       "      <td>-0.644720</td>\n",
       "      <td>-0.147364</td>\n",
       "      <td>0.547578</td>\n",
       "      <td>-0.244620</td>\n",
       "      <td>...</td>\n",
       "      <td>0.592513</td>\n",
       "      <td>-0.447916</td>\n",
       "      <td>-0.154701</td>\n",
       "      <td>0.645616</td>\n",
       "      <td>-0.978199</td>\n",
       "      <td>-0.352725</td>\n",
       "      <td>0.029607</td>\n",
       "      <td>0.186247</td>\n",
       "      <td>-0.076592</td>\n",
       "      <td>-0.107114</td>\n",
       "    </tr>\n",
       "    <tr>\n",
       "      <th>6644</th>\n",
       "      <td>gatactagatgtagttgaaaaaagattcaaccacacaatatatagc...</td>\n",
       "      <td>-1</td>\n",
       "      <td>-0.939334</td>\n",
       "      <td>-0.752792</td>\n",
       "      <td>-0.355315</td>\n",
       "      <td>-0.209782</td>\n",
       "      <td>-0.644720</td>\n",
       "      <td>-0.147364</td>\n",
       "      <td>0.547578</td>\n",
       "      <td>-0.244620</td>\n",
       "      <td>...</td>\n",
       "      <td>0.592513</td>\n",
       "      <td>-0.447916</td>\n",
       "      <td>-0.154701</td>\n",
       "      <td>0.645616</td>\n",
       "      <td>-0.978199</td>\n",
       "      <td>-0.352725</td>\n",
       "      <td>0.029607</td>\n",
       "      <td>0.186247</td>\n",
       "      <td>-0.076592</td>\n",
       "      <td>-0.107114</td>\n",
       "    </tr>\n",
       "    <tr>\n",
       "      <th>6645</th>\n",
       "      <td>gatactagatgtagttgaaaaaagattcaaccacacaatatatagc...</td>\n",
       "      <td>-1</td>\n",
       "      <td>-0.939334</td>\n",
       "      <td>-0.752792</td>\n",
       "      <td>-0.355315</td>\n",
       "      <td>-0.209782</td>\n",
       "      <td>-0.644720</td>\n",
       "      <td>-0.147364</td>\n",
       "      <td>0.547578</td>\n",
       "      <td>-0.244620</td>\n",
       "      <td>...</td>\n",
       "      <td>0.592513</td>\n",
       "      <td>-0.447916</td>\n",
       "      <td>-0.154701</td>\n",
       "      <td>0.645616</td>\n",
       "      <td>-0.978199</td>\n",
       "      <td>-0.352725</td>\n",
       "      <td>0.029607</td>\n",
       "      <td>0.186247</td>\n",
       "      <td>-0.076592</td>\n",
       "      <td>-0.107114</td>\n",
       "    </tr>\n",
       "  </tbody>\n",
       "</table>\n",
       "<p>6646 rows × 1282 columns</p>\n",
       "</div>"
      ],
      "text/plain": [
       "                                              Sequences  Strengths  feature_0  \\\n",
       "0     tagatgtccttgattaacaccaaaattaaaccttttaaaaaccagg...          1  -0.936847   \n",
       "1     aaagaaaataattaattttacagctgttaaaccaaacggttataac...          1  -0.946999   \n",
       "2     ctgctgttccttgcgatcgaaaagatcaagggcggaccggtatccg...          1  -0.946999   \n",
       "3     gcggaagcacaaattgcaccaggtacggaactaaaagccgtagatg...          1  -0.936847   \n",
       "4     aaatacttatggtgcgctggcttctttggaacttgcgcagcaattt...          1  -0.939334   \n",
       "...                                                 ...        ...        ...   \n",
       "6641  gatactagatgtagttgaaaaaagattcaaccacacaatatatagc...         -1  -0.939334   \n",
       "6642  gatactagatgtagttgaaaaaagattcaaccacacaatatatagc...         -1  -0.939334   \n",
       "6643  gatactagatgtagttgaaaaaagattcaaccacacaatatatagc...         -1  -0.939334   \n",
       "6644  gatactagatgtagttgaaaaaagattcaaccacacaatatatagc...         -1  -0.939334   \n",
       "6645  gatactagatgtagttgaaaaaagattcaaccacacaatatatagc...         -1  -0.939334   \n",
       "\n",
       "      feature_1  feature_2  feature_3  feature_4  feature_5  feature_6  \\\n",
       "0     -0.781433  -0.525665  -0.327091  -0.618907  -0.142214   0.555200   \n",
       "1     -0.824914  -0.470066  -0.244439  -0.711039  -0.126911   0.556981   \n",
       "2     -0.824914  -0.470066  -0.244439  -0.711039  -0.126911   0.556981   \n",
       "3     -0.781433  -0.525665  -0.327091  -0.618907  -0.142214   0.555200   \n",
       "4     -0.752792  -0.355315  -0.209782  -0.644720  -0.147364   0.547578   \n",
       "...         ...        ...        ...        ...        ...        ...   \n",
       "6641  -0.752792  -0.355315  -0.209782  -0.644720  -0.147364   0.547578   \n",
       "6642  -0.752792  -0.355315  -0.209782  -0.644720  -0.147364   0.547578   \n",
       "6643  -0.752792  -0.355315  -0.209782  -0.644720  -0.147364   0.547578   \n",
       "6644  -0.752792  -0.355315  -0.209782  -0.644720  -0.147364   0.547578   \n",
       "6645  -0.752792  -0.355315  -0.209782  -0.644720  -0.147364   0.547578   \n",
       "\n",
       "      feature_7  ...  feature_1270  feature_1271  feature_1272  feature_1273  \\\n",
       "0     -0.227962  ...      0.693298     -0.431873     -0.034174      0.701798   \n",
       "1     -0.249472  ...      0.678970     -0.519048     -0.002377      0.652751   \n",
       "2     -0.249472  ...      0.678970     -0.519048     -0.002377      0.652751   \n",
       "3     -0.227962  ...      0.693298     -0.431873     -0.034174      0.701798   \n",
       "4     -0.244620  ...      0.592513     -0.447916     -0.154701      0.645616   \n",
       "...         ...  ...           ...           ...           ...           ...   \n",
       "6641  -0.244620  ...      0.592513     -0.447916     -0.154701      0.645616   \n",
       "6642  -0.244620  ...      0.592513     -0.447916     -0.154701      0.645616   \n",
       "6643  -0.244620  ...      0.592513     -0.447916     -0.154701      0.645616   \n",
       "6644  -0.244620  ...      0.592513     -0.447916     -0.154701      0.645616   \n",
       "6645  -0.244620  ...      0.592513     -0.447916     -0.154701      0.645616   \n",
       "\n",
       "      feature_1274  feature_1275  feature_1276  feature_1277  feature_1278  \\\n",
       "0        -0.867468     -0.268788     -0.084448      0.357413     -0.061708   \n",
       "1        -0.911779     -0.233074      0.052144      0.210270     -0.042073   \n",
       "2        -0.911779     -0.233074      0.052144      0.210270     -0.042073   \n",
       "3        -0.867468     -0.268788     -0.084448      0.357413     -0.061708   \n",
       "4        -0.978199     -0.352725      0.029607      0.186247     -0.076592   \n",
       "...            ...           ...           ...           ...           ...   \n",
       "6641     -0.978199     -0.352725      0.029607      0.186247     -0.076592   \n",
       "6642     -0.978199     -0.352725      0.029607      0.186247     -0.076592   \n",
       "6643     -0.978199     -0.352725      0.029607      0.186247     -0.076592   \n",
       "6644     -0.978199     -0.352725      0.029607      0.186247     -0.076592   \n",
       "6645     -0.978199     -0.352725      0.029607      0.186247     -0.076592   \n",
       "\n",
       "      feature_1279  \n",
       "0        -0.153779  \n",
       "1        -0.101237  \n",
       "2        -0.101237  \n",
       "3        -0.153779  \n",
       "4        -0.107114  \n",
       "...            ...  \n",
       "6641     -0.107114  \n",
       "6642     -0.107114  \n",
       "6643     -0.107114  \n",
       "6644     -0.107114  \n",
       "6645     -0.107114  \n",
       "\n",
       "[6646 rows x 1282 columns]"
      ]
     },
     "execution_count": 3,
     "metadata": {},
     "output_type": "execute_result"
    }
   ],
   "source": [
    "num_features = embeddings.shape[1]\n",
    "embeddings_df = pd.DataFrame(data=embeddings, columns=[f'feature_{i}' for i in range(num_features)])\n",
    "combined_df = pd.concat([y, embeddings_df], axis=1)\n",
    "combined_df"
   ]
  },
  {
   "cell_type": "code",
   "execution_count": 4,
   "metadata": {},
   "outputs": [
    {
     "name": "stdout",
     "output_type": "stream",
     "text": [
      "Train set size: 5316\n",
      "Test set size: 1330\n"
     ]
    }
   ],
   "source": [
    "target_column = 'log2_foldchange'\n",
    "\n",
    "# Shuffle the DataFrame\n",
    "df_shuffled = combined_df.sample(frac=1, random_state=42).reset_index(drop=True)\n",
    "\n",
    "# Split the data into train, validation, and test sets\n",
    "train_ratio = 0.7\n",
    "validation_ratio = 0.1\n",
    "test_ratio = 0.2\n",
    "\n",
    "# Calculate the split indices\n",
    "train_idx, test_idx = train_test_split(df_shuffled.index, test_size=0.2, random_state=42)\n",
    "\n",
    "# Create the train, validation, and test DataFrames\n",
    "df_train = df_shuffled.loc[train_idx]\n",
    "df_test = df_shuffled.loc[test_idx]\n",
    "\n",
    "# Drop the index columns\n",
    "df_train.reset_index(drop=True, inplace=True)\n",
    "df_test.reset_index(drop=True, inplace=True)\n",
    "\n",
    "# Display the sizes of the resulting DataFrames\n",
    "print(f\"Train set size: {len(df_train)}\")\n",
    "print(f\"Test set size: {len(df_test)}\")"
   ]
  },
  {
   "cell_type": "code",
   "execution_count": 35,
   "metadata": {},
   "outputs": [],
   "source": [
    "# Save DataFrames to CSV files\n",
    "df_train.to_csv('train_data_clf_mean.csv', index=False)\n",
    "df_test.to_csv('test_data_clf_mean.csv', index=False)"
   ]
  },
  {
   "cell_type": "code",
   "execution_count": null,
   "metadata": {},
   "outputs": [
    {
     "data": {
      "image/png": "[encoded data removed]",
      "text/plain": [
       "<Figure size 640x480 with 1 Axes>"
      ]
     },
     "metadata": {},
     "output_type": "display_data"
    }
   ],
   "source": [
    "# Plot histogram\n",
    "plt.hist(df_train['Strengths'], bins=[-1, 0, 1, 2], edgecolor='black')  # Assuming 2 represents another category\n",
    "plt.xlabel('Promoter Strength')\n",
    "plt.ylabel('Frequency')\n",
    "plt.title('Histogram of Promoter Strengths (After Filtering)')\n",
    "plt.xticks([-1, 0, 1], ['Nonpromoter', 'Weak Promoter', 'Strong Promoter'])\n",
    "plt.show()"
   ]
  },
  {
   "cell_type": "markdown",
   "metadata": {},
   "source": [
    "## MultiClass Classification"
   ]
  },
  {
   "cell_type": "code",
   "execution_count": 5,
   "metadata": {},
   "outputs": [],
   "source": [
    "# Train a classifier model on the df_train\n",
    "df_train['Strengths'] = df_train['Strengths'].replace(-1, 2)\n",
    "X = df_train.drop(columns=['Sequences','Strengths'], axis=1)\n",
    "y = df_train['Strengths']"
   ]
  },
  {
   "cell_type": "markdown",
   "metadata": {},
   "source": [
    "## Method 1: XGB Classifier"
   ]
  },
  {
   "cell_type": "code",
   "execution_count": 6,
   "metadata": {},
   "outputs": [
    {
     "name": "stdout",
     "output_type": "stream",
     "text": [
      "XGB Classifier Statistics:\n",
      "Accuracy: 0.68\n",
      "Classification Report:\n",
      "               precision    recall  f1-score   support\n",
      "\n",
      "           0       0.56      0.35      0.43       265\n",
      "           1       0.57      0.24      0.34       228\n",
      "           2       0.71      1.00      0.83       571\n",
      "\n",
      "    accuracy                           0.68      1064\n",
      "   macro avg       0.62      0.53      0.53      1064\n",
      "weighted avg       0.64      0.68      0.63      1064\n",
      "\n"
     ]
    }
   ],
   "source": [
    "# Split the data into training and testing sets\n",
    "X_train, X_test, y_train, y_test = train_test_split(X, y, test_size=0.2, random_state=42)\n",
    "\n",
    "# Initialize an XGBoost classifier\n",
    "xgb_classifier = xgb.XGBClassifier()\n",
    "\n",
    "# Train the classifier\n",
    "xgb_classifier.fit(X_train, y_train)\n",
    "\n",
    "# Make predictions on the test set\n",
    "y_pred = xgb_classifier.predict(X_test)\n",
    "\n",
    "# Evaluate the accuracy\n",
    "accuracy = accuracy_score(y_test, y_pred)\n",
    "print(\"XGB Classifier Statistics:\")\n",
    "print(f'Accuracy: {accuracy:.2f}')\n",
    "\n",
    "# Classification Report for more detailed metrics\n",
    "print(\"Classification Report:\\n\", classification_report(y_test, y_pred))"
   ]
  },
  {
   "cell_type": "markdown",
   "metadata": {},
   "source": [
    "## Method 2: Random Forest Classifier"
   ]
  },
  {
   "cell_type": "code",
   "execution_count": 38,
   "metadata": {},
   "outputs": [
    {
     "name": "stdout",
     "output_type": "stream",
     "text": [
      "XGB Classifier Statistics:\n",
      "Random Forest Accuracy: 0.6757518796992481\n",
      "Classification Report:\n",
      "               precision    recall  f1-score   support\n",
      "\n",
      "           0       0.56      0.35      0.43       265\n",
      "           1       0.57      0.24      0.34       228\n",
      "           2       0.71      1.00      0.83       571\n",
      "\n",
      "    accuracy                           0.68      1064\n",
      "   macro avg       0.62      0.53      0.53      1064\n",
      "weighted avg       0.64      0.68      0.63      1064\n",
      "\n"
     ]
    }
   ],
   "source": [
    "# Initialize an Random Forest classifier\n",
    "rf_model = RandomForestClassifier(random_state=42)\n",
    "\n",
    "# Train the classifier\n",
    "rf_model.fit(X_train, y_train)\n",
    "\n",
    "# Make predictions on the test set\n",
    "rf_pred = rf_model.predict(X_test)\n",
    "\n",
    "# Evaluate the accuracy\n",
    "rf_accuracy = accuracy_score(y_test, rf_pred)\n",
    "print(\"XGB Classifier Statistics:\")\n",
    "print(\"Random Forest Accuracy:\", rf_accuracy)\n",
    "\n",
    "# Classification Report for more detailed metrics\n",
    "print(\"Classification Report:\\n\", classification_report(y_test, rf_pred))"
   ]
  },
  {
   "cell_type": "markdown",
   "metadata": {},
   "source": [
    "## Try feature selection through RFE to see if it can boost performance"
   ]
  },
  {
   "cell_type": "code",
   "execution_count": null,
   "metadata": {},
   "outputs": [
    {
     "name": "stdout",
     "output_type": "stream",
     "text": [
      "Accuracy: 0.68\n",
      "Classification Report:\n",
      "               precision    recall  f1-score   support\n",
      "\n",
      "           0       0.56      0.35      0.43       265\n",
      "           1       0.57      0.24      0.34       228\n",
      "           2       0.71      1.00      0.83       571\n",
      "\n",
      "    accuracy                           0.68      1064\n",
      "   macro avg       0.62      0.53      0.53      1064\n",
      "weighted avg       0.64      0.68      0.63      1064\n",
      "\n"
     ]
    }
   ],
   "source": [
    "\n",
    "# Initialize Random Forest classifier\n",
    "rf_model = RandomForestClassifier(random_state=42)\n",
    "\n",
    "# Initialize RFECV for feature selection\n",
    "rfecv = RFECV(estimator=rf_model, step=1, cv=5, scoring='accuracy')\n",
    "rfecv.fit(X_train, y_train)\n",
    "\n",
    "# Get selected features\n",
    "selected_features = X.columns[rfecv.support_]\n",
    "\n",
    "# Train Random Forest Classifier on the selected features\n",
    "rf_model_selected = RandomForestClassifier(random_state=42)\n",
    "rf_model_selected.fit(X_train[selected_features], y_train)\n",
    "\n",
    "# Make Predictions with the Selected Model\n",
    "y_pred = rf_model_selected.predict(X_test[selected_features])\n",
    "\n",
    "# valuate the Model\n",
    "accuracy = accuracy_score(y_test, y_pred)\n",
    "print(f\"Accuracy: {accuracy:.2f}\")\n",
    "\n",
    "# Classification Report for more detailed metrics\n",
    "print(\"Classification Report:\\n\", classification_report(y_test, y_pred))\n"
   ]
  },
  {
   "cell_type": "markdown",
   "metadata": {},
   "source": [
    "## Method 3: SVC"
   ]
  },
  {
   "cell_type": "code",
   "execution_count": 39,
   "metadata": {},
   "outputs": [
    {
     "name": "stdout",
     "output_type": "stream",
     "text": [
      "SVC Statistics:\n",
      "SVC Accuracy: 0.6625939849624061\n",
      "Classification Report:\n",
      "               precision    recall  f1-score   support\n",
      "\n",
      "           0       0.51      0.51      0.51       265\n",
      "           1       0.00      0.00      0.00       228\n",
      "           2       0.71      1.00      0.83       571\n",
      "\n",
      "    accuracy                           0.66      1064\n",
      "   macro avg       0.41      0.50      0.45      1064\n",
      "weighted avg       0.51      0.66      0.57      1064\n",
      "\n"
     ]
    },
    {
     "name": "stderr",
     "output_type": "stream",
     "text": [
      "/opt/anaconda3/envs/research-env/lib/python3.9/site-packages/sklearn/metrics/_classification.py:1469: UndefinedMetricWarning: Precision and F-score are ill-defined and being set to 0.0 in labels with no predicted samples. Use `zero_division` parameter to control this behavior.\n",
      "  _warn_prf(average, modifier, msg_start, len(result))\n",
      "/opt/anaconda3/envs/research-env/lib/python3.9/site-packages/sklearn/metrics/_classification.py:1469: UndefinedMetricWarning: Precision and F-score are ill-defined and being set to 0.0 in labels with no predicted samples. Use `zero_division` parameter to control this behavior.\n",
      "  _warn_prf(average, modifier, msg_start, len(result))\n",
      "/opt/anaconda3/envs/research-env/lib/python3.9/site-packages/sklearn/metrics/_classification.py:1469: UndefinedMetricWarning: Precision and F-score are ill-defined and being set to 0.0 in labels with no predicted samples. Use `zero_division` parameter to control this behavior.\n",
      "  _warn_prf(average, modifier, msg_start, len(result))\n"
     ]
    }
   ],
   "source": [
    "# Initialize an SVC classifier\n",
    "svc_model = SVC(random_state=42)\n",
    "\n",
    "# Train the classifier\n",
    "svc_model.fit(X_train, y_train)\n",
    "\n",
    "# Make predictions on the test set\n",
    "svc_pred = svc_model.predict(X_test)\n",
    "\n",
    "# Evaluate the accuracy\n",
    "svc_accuracy = accuracy_score(y_test, svc_pred)\n",
    "print(\"SVC Statistics:\")\n",
    "print(\"SVC Accuracy:\", svc_accuracy)\n",
    "\n",
    "# Classification Report for more detailed metrics\n",
    "print(\"Classification Report:\\n\", classification_report(y_test, svc_pred))"
   ]
  },
  {
   "cell_type": "markdown",
   "metadata": {},
   "source": [
    "## Method 4: Logistic Regression"
   ]
  },
  {
   "cell_type": "code",
   "execution_count": 40,
   "metadata": {},
   "outputs": [
    {
     "name": "stdout",
     "output_type": "stream",
     "text": [
      "Accuracy: 0.6757518796992481\n",
      "Classification Report:\n",
      "               precision    recall  f1-score   support\n",
      "\n",
      "           0       0.56      0.35      0.43       265\n",
      "           1       0.57      0.24      0.34       228\n",
      "           2       0.71      1.00      0.83       571\n",
      "\n",
      "    accuracy                           0.68      1064\n",
      "   macro avg       0.62      0.53      0.53      1064\n",
      "weighted avg       0.64      0.68      0.63      1064\n",
      "\n"
     ]
    }
   ],
   "source": [
    "# Create Logistic Regression model\n",
    "logreg_model = LogisticRegression(multi_class='ovr', max_iter=1000)\n",
    "\n",
    "# Fit the model on the training data\n",
    "logreg_model.fit(X_train, y_train)\n",
    "\n",
    "# Make predictions on the test set\n",
    "y_pred = logreg_model.predict(X_test)\n",
    "\n",
    "# Evaluate the accuracy of the model\n",
    "accuracy = accuracy_score(y_test, y_pred)\n",
    "print(\"Accuracy:\", accuracy)\n",
    "\n",
    "# Classification Report for more detailed metrics\n",
    "print(\"Classification Report:\\n\", classification_report(y_test, y_pred))"
   ]
  },
  {
   "cell_type": "markdown",
   "metadata": {},
   "source": [
    "## Method 5: Decision Tree"
   ]
  },
  {
   "cell_type": "code",
   "execution_count": 41,
   "metadata": {},
   "outputs": [
    {
     "name": "stdout",
     "output_type": "stream",
     "text": [
      "Accuracy: 0.6757518796992481\n",
      "Classification Report:\n",
      "               precision    recall  f1-score   support\n",
      "\n",
      "           0       0.56      0.35      0.43       265\n",
      "           1       0.57      0.24      0.34       228\n",
      "           2       0.71      1.00      0.83       571\n",
      "\n",
      "    accuracy                           0.68      1064\n",
      "   macro avg       0.62      0.53      0.53      1064\n",
      "weighted avg       0.64      0.68      0.63      1064\n",
      "\n"
     ]
    }
   ],
   "source": [
    "# Create Decision Tree model\n",
    "tree_model = DecisionTreeClassifier()\n",
    "\n",
    "# Fit the model on the training data\n",
    "tree_model.fit(X_train, y_train)\n",
    "\n",
    "# Make predictions on the test set\n",
    "y_pred = tree_model.predict(X_test)\n",
    "\n",
    "# Evaluate the accuracy of the model\n",
    "accuracy = accuracy_score(y_test, y_pred)\n",
    "print(\"Accuracy:\", accuracy)\n",
    "\n",
    "# Classification Report for more detailed metrics\n",
    "print(\"Classification Report:\\n\", classification_report(y_test, y_pred))"
   ]
  },
  {
   "cell_type": "markdown",
   "metadata": {},
   "source": [
    "## Method 6: KNN"
   ]
  },
  {
   "cell_type": "code",
   "execution_count": 42,
   "metadata": {},
   "outputs": [
    {
     "name": "stdout",
     "output_type": "stream",
     "text": [
      "Accuracy: 0.6710526315789473\n",
      "Classification Report:\n",
      "               precision    recall  f1-score   support\n",
      "\n",
      "           0       0.54      0.44      0.48       265\n",
      "           1       0.60      0.12      0.20       228\n",
      "           2       0.71      1.00      0.83       571\n",
      "\n",
      "    accuracy                           0.67      1064\n",
      "   macro avg       0.62      0.52      0.50      1064\n",
      "weighted avg       0.64      0.67      0.61      1064\n",
      "\n"
     ]
    }
   ],
   "source": [
    "# Create KNN model\n",
    "knn_model = KNeighborsClassifier(n_neighbors=3)  # You can adjust the number of neighbors (k) as needed\n",
    "\n",
    "# Fit the model on the training data\n",
    "knn_model.fit(X_train, y_train)\n",
    "\n",
    "# Make predictions on the test set\n",
    "y_pred = knn_model.predict(X_test)\n",
    "\n",
    "# Evaluate the accuracy of the model\n",
    "accuracy = accuracy_score(y_test, y_pred)\n",
    "print(\"Accuracy:\", accuracy)\n",
    "\n",
    "# Classification Report for more detailed metrics\n",
    "print(\"Classification Report:\\n\", classification_report(y_test, y_pred))"
   ]
  },
  {
   "cell_type": "markdown",
   "metadata": {},
   "source": [
    "## Method 7: Gaussian Naive Bayes"
   ]
  },
  {
   "cell_type": "code",
   "execution_count": 43,
   "metadata": {},
   "outputs": [
    {
     "name": "stdout",
     "output_type": "stream",
     "text": [
      "Accuracy: 0.6757518796992481\n",
      "Classification Report:\n",
      "               precision    recall  f1-score   support\n",
      "\n",
      "           0       0.56      0.35      0.43       265\n",
      "           1       0.57      0.24      0.34       228\n",
      "           2       0.71      1.00      0.83       571\n",
      "\n",
      "    accuracy                           0.68      1064\n",
      "   macro avg       0.62      0.53      0.53      1064\n",
      "weighted avg       0.64      0.68      0.63      1064\n",
      "\n"
     ]
    }
   ],
   "source": [
    "# Create Gaussian Naive Bayes model\n",
    "gnb_model = GaussianNB()\n",
    "\n",
    "# Fit the model on the training data\n",
    "gnb_model.fit(X_train, y_train)\n",
    "\n",
    "# Make predictions on the test set\n",
    "y_pred = gnb_model.predict(X_test)\n",
    "\n",
    "# Evaluate the accuracy of the model\n",
    "accuracy = accuracy_score(y_test, y_pred)\n",
    "print(\"Accuracy:\", accuracy)\n",
    "\n",
    "# Classification Report for more detailed metrics\n",
    "print(\"Classification Report:\\n\", classification_report(y_test, y_pred))"
   ]
  },
  {
   "cell_type": "markdown",
   "metadata": {},
   "source": [
    "## Method 8: Adaboost"
   ]
  },
  {
   "cell_type": "code",
   "execution_count": 44,
   "metadata": {},
   "outputs": [
    {
     "name": "stderr",
     "output_type": "stream",
     "text": [
      "/opt/anaconda3/envs/research-env/lib/python3.9/site-packages/sklearn/ensemble/_base.py:156: FutureWarning: `base_estimator` was renamed to `estimator` in version 1.2 and will be removed in 1.4.\n",
      "  warnings.warn(\n"
     ]
    },
    {
     "name": "stdout",
     "output_type": "stream",
     "text": [
      "Accuracy: 0.2424812030075188\n",
      "Classification Report:\n",
      "               precision    recall  f1-score   support\n",
      "\n",
      "           0       0.16      0.49      0.25       265\n",
      "           1       0.49      0.56      0.52       228\n",
      "           2       0.00      0.00      0.00       571\n",
      "\n",
      "    accuracy                           0.24      1064\n",
      "   macro avg       0.22      0.35      0.25      1064\n",
      "weighted avg       0.14      0.24      0.17      1064\n",
      "\n"
     ]
    },
    {
     "name": "stderr",
     "output_type": "stream",
     "text": [
      "/opt/anaconda3/envs/research-env/lib/python3.9/site-packages/sklearn/metrics/_classification.py:1469: UndefinedMetricWarning: Precision and F-score are ill-defined and being set to 0.0 in labels with no predicted samples. Use `zero_division` parameter to control this behavior.\n",
      "  _warn_prf(average, modifier, msg_start, len(result))\n",
      "/opt/anaconda3/envs/research-env/lib/python3.9/site-packages/sklearn/metrics/_classification.py:1469: UndefinedMetricWarning: Precision and F-score are ill-defined and being set to 0.0 in labels with no predicted samples. Use `zero_division` parameter to control this behavior.\n",
      "  _warn_prf(average, modifier, msg_start, len(result))\n",
      "/opt/anaconda3/envs/research-env/lib/python3.9/site-packages/sklearn/metrics/_classification.py:1469: UndefinedMetricWarning: Precision and F-score are ill-defined and being set to 0.0 in labels with no predicted samples. Use `zero_division` parameter to control this behavior.\n",
      "  _warn_prf(average, modifier, msg_start, len(result))\n"
     ]
    }
   ],
   "source": [
    "# Create Gaussian Naive Bayes model (base classifier)\n",
    "gnb_model = GaussianNB()\n",
    "\n",
    "# Create AdaBoost model using Gaussian Naive Bayes as the base classifier\n",
    "adaboost_model = AdaBoostClassifier(base_estimator=gnb_model, n_estimators=50, random_state=42)\n",
    "\n",
    "# Fit the model on the training data\n",
    "adaboost_model.fit(X_train, y_train)\n",
    "\n",
    "# Make predictions on the test set\n",
    "y_pred = adaboost_model.predict(X_test)\n",
    "\n",
    "# Evaluate the accuracy of the model\n",
    "accuracy = accuracy_score(y_test, y_pred)\n",
    "print(\"Accuracy:\", accuracy)\n",
    "\n",
    "# Classification Report for more detailed metrics\n",
    "print(\"Classification Report:\\n\", classification_report(y_test, y_pred))\n"
   ]
  },
  {
   "cell_type": "markdown",
   "metadata": {},
   "source": [
    "## Confusion Matrix"
   ]
  },
  {
   "cell_type": "code",
   "execution_count": 12,
   "metadata": {},
   "outputs": [
    {
     "data": {
      "image/png": "[encoded data removed]",
      "text/plain": [
       "<Figure size 800x600 with 1 Axes>"
      ]
     },
     "metadata": {},
     "output_type": "display_data"
    }
   ],
   "source": [
    "conf_matrix = confusion_matrix(y_test, y_pred)\n",
    "\n",
    "plt.figure(figsize=(8, 6))\n",
    "sns.heatmap(conf_matrix, annot=True, fmt='d', cmap='Blues', cbar=False, \n",
    "            xticklabels=['Class 0', 'Class 1'], \n",
    "            yticklabels=['Class 0', 'Class 1'])\n",
    "plt.title('MultiClass Classification: Confusion Matrix for XGBoost')\n",
    "plt.xlabel('Predicted')\n",
    "plt.ylabel('Actual')\n",
    "plt.show()"
   ]
  },
  {
   "cell_type": "markdown",
   "metadata": {},
   "source": [
    "## Binary Classification"
   ]
  },
  {
   "cell_type": "code",
   "execution_count": 9,
   "metadata": {},
   "outputs": [],
   "source": [
    "# try binary classification for promoter vs. nonpromoter\n",
    "df_train['Strengths'] = df_train['Strengths'].replace(1, 0)\n",
    "df_train['Strengths'] = df_train['Strengths'].replace(2, 1)\n",
    "X = df_train.drop(columns=['Sequences','Strengths'], axis=1)\n",
    "y = df_train['Strengths']\n",
    "\n",
    "# Split the data into training and testing sets\n",
    "X_train, X_test, y_train, y_test = train_test_split(X, y, test_size=0.2, random_state=42)\n",
    "\n",
    "# strength_counts = df_train['Strengths'].value_counts()\n",
    "# print(\"Count of 0's:\", strength_counts.get(0, 0))  # Replace 1 with the actual value you're interested in\n",
    "# print(\"Count of 1's:\", strength_counts.get(1, 0)) \n",
    "# print(\"Count of 2's:\", strength_counts.get(2, 0)) "
   ]
  },
  {
   "cell_type": "markdown",
   "metadata": {},
   "source": [
    "## Method 1: XGB Classifier"
   ]
  },
  {
   "cell_type": "code",
   "execution_count": 10,
   "metadata": {},
   "outputs": [
    {
     "name": "stdout",
     "output_type": "stream",
     "text": [
      "XGB Classifier Statistics:\n",
      "Accuracy: 0.78\n",
      "Classification Report:\n",
      "               precision    recall  f1-score   support\n",
      "\n",
      "           0       1.00      0.53      0.69       493\n",
      "           1       0.71      1.00      0.83       571\n",
      "\n",
      "    accuracy                           0.78      1064\n",
      "   macro avg       0.86      0.76      0.76      1064\n",
      "weighted avg       0.84      0.78      0.77      1064\n",
      "\n"
     ]
    }
   ],
   "source": [
    "# Initialize an XGBoost classifier\n",
    "xgb_classifier = xgb.XGBClassifier()\n",
    "# Train the classifier\n",
    "xgb_classifier.fit(X_train, y_train)\n",
    "# Make predictions on the test set\n",
    "xgb_pred = xgb_classifier.predict(X_test)\n",
    "# Evaluate the accuracy\n",
    "print(\"XGB Classifier Statistics:\")\n",
    "print(f'Accuracy: {accuracy_score(y_test, xgb_pred):.2f}')\n",
    "# Classification Report for more detailed metrics\n",
    "print(\"Classification Report:\\n\", classification_report(y_test, xgb_pred))"
   ]
  },
  {
   "cell_type": "markdown",
   "metadata": {},
   "source": [
    "## Method 2: Logisitic Regression"
   ]
  },
  {
   "cell_type": "code",
   "execution_count": 14,
   "metadata": {},
   "outputs": [
    {
     "name": "stdout",
     "output_type": "stream",
     "text": [
      "Logistic Regression Statistics:\n",
      "Accuracy: 0.7819548872180451\n",
      "Classification Report:\n",
      "               precision    recall  f1-score   support\n",
      "\n",
      "           0       1.00      0.53      0.69       493\n",
      "           1       0.71      1.00      0.83       571\n",
      "\n",
      "    accuracy                           0.78      1064\n",
      "   macro avg       0.86      0.76      0.76      1064\n",
      "weighted avg       0.84      0.78      0.77      1064\n",
      "\n"
     ]
    }
   ],
   "source": [
    "# Initialize a Logistic Regression Classifier\n",
    "lr_model = LogisticRegression()\n",
    "lr_model.fit(X_train, y_train)\n",
    "# Make predictions on the test set\n",
    "lr_pred = lr_model.predict(X_test)\n",
    "# Evaluate the model\n",
    "print(\"Logistic Regression Statistics:\")\n",
    "print(f\"Accuracy: {accuracy_score(y_test, lr_pred)}\")\n",
    "print(\"Classification Report:\\n\", classification_report(y_test, lr_pred))"
   ]
  },
  {
   "cell_type": "markdown",
   "metadata": {},
   "source": [
    "## Method 3: SVC"
   ]
  },
  {
   "cell_type": "code",
   "execution_count": 15,
   "metadata": {},
   "outputs": [
    {
     "name": "stdout",
     "output_type": "stream",
     "text": [
      "SVC Statistics:\n",
      "Accuracy: 0.7819548872180451\n",
      "Classification Report:\n",
      "               precision    recall  f1-score   support\n",
      "\n",
      "           0       1.00      0.53      0.69       493\n",
      "           1       0.71      1.00      0.83       571\n",
      "\n",
      "    accuracy                           0.78      1064\n",
      "   macro avg       0.86      0.76      0.76      1064\n",
      "weighted avg       0.84      0.78      0.77      1064\n",
      "\n"
     ]
    }
   ],
   "source": [
    "# Initialize an SVC classifier\n",
    "svc_model = SVC()  # Use SVC instead of LogisticRegression\n",
    "svc_model.fit(X_train, y_train)\n",
    "# Make predictions on the test set\n",
    "svc_pred = svc_model.predict(X_test)\n",
    "# Evaluate the model\n",
    "print(\"SVC Statistics:\")\n",
    "print(f\"Accuracy: {accuracy_score(y_test, svc_pred)}\")\n",
    "print(\"Classification Report:\\n\", classification_report(y_test, svc_pred))"
   ]
  },
  {
   "cell_type": "markdown",
   "metadata": {},
   "source": [
    "## Method 4: Decision Tree"
   ]
  },
  {
   "cell_type": "code",
   "execution_count": 16,
   "metadata": {},
   "outputs": [
    {
     "name": "stdout",
     "output_type": "stream",
     "text": [
      "Decision Tree Statistics:\n",
      "Accuracy: 0.7819548872180451\n",
      "Classification Report:\n",
      "               precision    recall  f1-score   support\n",
      "\n",
      "           0       1.00      0.53      0.69       493\n",
      "           1       0.71      1.00      0.83       571\n",
      "\n",
      "    accuracy                           0.78      1064\n",
      "   macro avg       0.86      0.76      0.76      1064\n",
      "weighted avg       0.84      0.78      0.77      1064\n",
      "\n"
     ]
    }
   ],
   "source": [
    "dt_model = DecisionTreeClassifier()  # Use DecisionTreeClassifier instead of SVC\n",
    "dt_model.fit(X_train, y_train)\n",
    "# Make predictions on the test set\n",
    "dt_pred = dt_model.predict(X_test)\n",
    "# Evaluate the model\n",
    "print(\"Decision Tree Statistics:\")\n",
    "print(f\"Accuracy: {accuracy_score(y_test, dt_pred)}\")\n",
    "print(\"Classification Report:\\n\", classification_report(y_test, dt_pred))"
   ]
  },
  {
   "cell_type": "markdown",
   "metadata": {},
   "source": [
    "## Method 5: Random Forest"
   ]
  },
  {
   "cell_type": "code",
   "execution_count": 17,
   "metadata": {},
   "outputs": [
    {
     "name": "stdout",
     "output_type": "stream",
     "text": [
      "Random Forest Statistics:\n",
      "Accuracy: 0.7819548872180451\n",
      "Classification Report:\n",
      "               precision    recall  f1-score   support\n",
      "\n",
      "           0       1.00      0.53      0.69       493\n",
      "           1       0.71      1.00      0.83       571\n",
      "\n",
      "    accuracy                           0.78      1064\n",
      "   macro avg       0.86      0.76      0.76      1064\n",
      "weighted avg       0.84      0.78      0.77      1064\n",
      "\n"
     ]
    }
   ],
   "source": [
    "# Create and train the Random Forest model\n",
    "rf_model = RandomForestClassifier()\n",
    "rf_model.fit(X_train, y_train)\n",
    "# Make predictions on the test set\n",
    "rf_pred = rf_model.predict(X_test)\n",
    "# Evaluate the model\n",
    "print(\"Random Forest Statistics:\")\n",
    "print(f\"Accuracy: {accuracy_score(y_test, rf_pred)}\")\n",
    "print(\"Classification Report:\\n\", classification_report(y_test, rf_pred))"
   ]
  },
  {
   "cell_type": "markdown",
   "metadata": {},
   "source": [
    "## Method 6: KNN"
   ]
  },
  {
   "cell_type": "code",
   "execution_count": 18,
   "metadata": {},
   "outputs": [
    {
     "name": "stdout",
     "output_type": "stream",
     "text": [
      "K-Nearest Neighbors Statistics:\n",
      "Accuracy: 0.7819548872180451\n",
      "Classification Report:\n",
      "               precision    recall  f1-score   support\n",
      "\n",
      "           0       1.00      0.53      0.69       493\n",
      "           1       0.71      1.00      0.83       571\n",
      "\n",
      "    accuracy                           0.78      1064\n",
      "   macro avg       0.86      0.76      0.76      1064\n",
      "weighted avg       0.84      0.78      0.77      1064\n",
      "\n"
     ]
    }
   ],
   "source": [
    "# Create and train the KNN model\n",
    "knn_model = KNeighborsClassifier()\n",
    "knn_model.fit(X_train, y_train)\n",
    "# Make predictions on the test set\n",
    "knn_pred = knn_model.predict(X_test)\n",
    "# Evaluate the model\n",
    "print(\"K-Nearest Neighbors Statistics:\")\n",
    "print(f\"Accuracy: {accuracy_score(y_test, knn_pred)}\")\n",
    "print(\"Classification Report:\\n\", classification_report(y_test, knn_pred))\n"
   ]
  },
  {
   "cell_type": "markdown",
   "metadata": {},
   "source": [
    "## Method 7: Gaussian Naive Bayes"
   ]
  },
  {
   "cell_type": "code",
   "execution_count": 19,
   "metadata": {},
   "outputs": [
    {
     "name": "stdout",
     "output_type": "stream",
     "text": [
      "Gaussian Naive Bayes Statistics:\n",
      "Accuracy: 0.7819548872180451\n",
      "Classification Report:\n",
      "               precision    recall  f1-score   support\n",
      "\n",
      "           0       1.00      0.53      0.69       493\n",
      "           1       0.71      1.00      0.83       571\n",
      "\n",
      "    accuracy                           0.78      1064\n",
      "   macro avg       0.86      0.76      0.76      1064\n",
      "weighted avg       0.84      0.78      0.77      1064\n",
      "\n"
     ]
    }
   ],
   "source": [
    "# Create and train the Naive Bayes model\n",
    "gb_model = GaussianNB()\n",
    "gb_model.fit(X_train, y_train)\n",
    "# Make predictions on the test set\n",
    "gb_pred = gb_model.predict(X_test)\n",
    "# Evaluate the model\n",
    "print(\"Gaussian Naive Bayes Statistics:\")\n",
    "print(f\"Accuracy: {accuracy_score(y_test, gb_pred)}\")\n",
    "print(\"Classification Report:\\n\", classification_report(y_test, gb_pred))"
   ]
  },
  {
   "cell_type": "markdown",
   "metadata": {},
   "source": [
    "## Method 8: AdaBoost"
   ]
  },
  {
   "cell_type": "code",
   "execution_count": 20,
   "metadata": {},
   "outputs": [
    {
     "name": "stdout",
     "output_type": "stream",
     "text": [
      "Adaboost Statistics:\n",
      "Accuracy: 0.7819548872180451\n",
      "Classification Report:\n",
      "               precision    recall  f1-score   support\n",
      "\n",
      "           0       1.00      0.53      0.69       493\n",
      "           1       0.71      1.00      0.83       571\n",
      "\n",
      "    accuracy                           0.78      1064\n",
      "   macro avg       0.86      0.76      0.76      1064\n",
      "weighted avg       0.84      0.78      0.77      1064\n",
      "\n"
     ]
    }
   ],
   "source": [
    "# Create and train the AdaBoost model\n",
    "ada_model = AdaBoostClassifier()\n",
    "ada_model.fit(X_train, y_train)\n",
    "# Make predictions on the test set\n",
    "ada_pred = ada_model.predict(X_test)\n",
    "# Evaluate the model\n",
    "print(\"Adaboost Statistics:\")\n",
    "print(f\"Accuracy: {accuracy_score(y_test, ada_pred)}\")\n",
    "print(\"Classification Report:\\n\", classification_report(y_test, ada_pred))"
   ]
  },
  {
   "cell_type": "code",
   "execution_count": 13,
   "metadata": {},
   "outputs": [
    {
     "data": {
      "image/png": "[encoded data removed]",
      "text/plain": [
       "<Figure size 800x600 with 1 Axes>"
      ]
     },
     "metadata": {},
     "output_type": "display_data"
    }
   ],
   "source": [
    "conf_matrix = confusion_matrix(y_test, xgb_pred)\n",
    "\n",
    "plt.figure(figsize=(8, 6))\n",
    "sns.heatmap(conf_matrix, annot=True, fmt='d', cmap='Blues', cbar=False, \n",
    "            xticklabels=['Class 0', 'Class 1'], \n",
    "            yticklabels=['Class 0', 'Class 1'])\n",
    "plt.title('Binary Classification: Confusion Matrix for XGBoost')\n",
    "plt.xlabel('Predicted')\n",
    "plt.ylabel('Actual')\n",
    "plt.show()"
   ]
  },
  {
   "cell_type": "markdown",
   "metadata": {},
   "source": []
  },
  {
   "cell_type": "markdown",
   "metadata": {},
   "source": [
    "## Downsampling the Data "
   ]
  },
  {
   "cell_type": "code",
   "execution_count": 14,
   "metadata": {},
   "outputs": [
    {
     "data": {
      "text/html": [
       "<div>\n",
       "<style scoped>\n",
       "    .dataframe tbody tr th:only-of-type {\n",
       "        vertical-align: middle;\n",
       "    }\n",
       "\n",
       "    .dataframe tbody tr th {\n",
       "        vertical-align: top;\n",
       "    }\n",
       "\n",
       "    .dataframe thead th {\n",
       "        text-align: right;\n",
       "    }\n",
       "</style>\n",
       "<table border=\"1\" class=\"dataframe\">\n",
       "  <thead>\n",
       "    <tr style=\"text-align: right;\">\n",
       "      <th></th>\n",
       "      <th>Sequences</th>\n",
       "      <th>Strengths</th>\n",
       "      <th>feature_0</th>\n",
       "      <th>feature_1</th>\n",
       "      <th>feature_2</th>\n",
       "      <th>feature_3</th>\n",
       "      <th>feature_4</th>\n",
       "      <th>feature_5</th>\n",
       "      <th>feature_6</th>\n",
       "      <th>feature_7</th>\n",
       "      <th>...</th>\n",
       "      <th>feature_1270</th>\n",
       "      <th>feature_1271</th>\n",
       "      <th>feature_1272</th>\n",
       "      <th>feature_1273</th>\n",
       "      <th>feature_1274</th>\n",
       "      <th>feature_1275</th>\n",
       "      <th>feature_1276</th>\n",
       "      <th>feature_1277</th>\n",
       "      <th>feature_1278</th>\n",
       "      <th>feature_1279</th>\n",
       "    </tr>\n",
       "  </thead>\n",
       "  <tbody>\n",
       "    <tr>\n",
       "      <th>0</th>\n",
       "      <td>tagatgtccttgattaacaccaaaattaaaccttttaaaaaccagg...</td>\n",
       "      <td>2</td>\n",
       "      <td>-0.936847</td>\n",
       "      <td>-0.781433</td>\n",
       "      <td>-0.525665</td>\n",
       "      <td>-0.327091</td>\n",
       "      <td>-0.618907</td>\n",
       "      <td>-0.142214</td>\n",
       "      <td>0.555200</td>\n",
       "      <td>-0.227962</td>\n",
       "      <td>...</td>\n",
       "      <td>0.693298</td>\n",
       "      <td>-0.431873</td>\n",
       "      <td>-0.034174</td>\n",
       "      <td>0.701798</td>\n",
       "      <td>-0.867468</td>\n",
       "      <td>-0.268788</td>\n",
       "      <td>-0.084448</td>\n",
       "      <td>0.357413</td>\n",
       "      <td>-0.061708</td>\n",
       "      <td>-0.153779</td>\n",
       "    </tr>\n",
       "    <tr>\n",
       "      <th>1</th>\n",
       "      <td>aaagaaaataattaattttacagctgttaaaccaaacggttataac...</td>\n",
       "      <td>2</td>\n",
       "      <td>-0.946999</td>\n",
       "      <td>-0.824914</td>\n",
       "      <td>-0.470066</td>\n",
       "      <td>-0.244439</td>\n",
       "      <td>-0.711039</td>\n",
       "      <td>-0.126911</td>\n",
       "      <td>0.556981</td>\n",
       "      <td>-0.249472</td>\n",
       "      <td>...</td>\n",
       "      <td>0.678970</td>\n",
       "      <td>-0.519048</td>\n",
       "      <td>-0.002377</td>\n",
       "      <td>0.652751</td>\n",
       "      <td>-0.911779</td>\n",
       "      <td>-0.233074</td>\n",
       "      <td>0.052144</td>\n",
       "      <td>0.210270</td>\n",
       "      <td>-0.042073</td>\n",
       "      <td>-0.101237</td>\n",
       "    </tr>\n",
       "    <tr>\n",
       "      <th>2</th>\n",
       "      <td>ctgctgttccttgcgatcgaaaagatcaagggcggaccggtatccg...</td>\n",
       "      <td>2</td>\n",
       "      <td>-0.946999</td>\n",
       "      <td>-0.824914</td>\n",
       "      <td>-0.470066</td>\n",
       "      <td>-0.244439</td>\n",
       "      <td>-0.711039</td>\n",
       "      <td>-0.126911</td>\n",
       "      <td>0.556981</td>\n",
       "      <td>-0.249472</td>\n",
       "      <td>...</td>\n",
       "      <td>0.678970</td>\n",
       "      <td>-0.519048</td>\n",
       "      <td>-0.002377</td>\n",
       "      <td>0.652751</td>\n",
       "      <td>-0.911779</td>\n",
       "      <td>-0.233074</td>\n",
       "      <td>0.052144</td>\n",
       "      <td>0.210270</td>\n",
       "      <td>-0.042073</td>\n",
       "      <td>-0.101237</td>\n",
       "    </tr>\n",
       "    <tr>\n",
       "      <th>3</th>\n",
       "      <td>gcggaagcacaaattgcaccaggtacggaactaaaagccgtagatg...</td>\n",
       "      <td>2</td>\n",
       "      <td>-0.936847</td>\n",
       "      <td>-0.781433</td>\n",
       "      <td>-0.525665</td>\n",
       "      <td>-0.327091</td>\n",
       "      <td>-0.618907</td>\n",
       "      <td>-0.142214</td>\n",
       "      <td>0.555200</td>\n",
       "      <td>-0.227962</td>\n",
       "      <td>...</td>\n",
       "      <td>0.693298</td>\n",
       "      <td>-0.431873</td>\n",
       "      <td>-0.034174</td>\n",
       "      <td>0.701798</td>\n",
       "      <td>-0.867468</td>\n",
       "      <td>-0.268788</td>\n",
       "      <td>-0.084448</td>\n",
       "      <td>0.357413</td>\n",
       "      <td>-0.061708</td>\n",
       "      <td>-0.153779</td>\n",
       "    </tr>\n",
       "    <tr>\n",
       "      <th>4</th>\n",
       "      <td>aaatacttatggtgcgctggcttctttggaacttgcgcagcaattt...</td>\n",
       "      <td>2</td>\n",
       "      <td>-0.939334</td>\n",
       "      <td>-0.752792</td>\n",
       "      <td>-0.355315</td>\n",
       "      <td>-0.209782</td>\n",
       "      <td>-0.644720</td>\n",
       "      <td>-0.147364</td>\n",
       "      <td>0.547578</td>\n",
       "      <td>-0.244620</td>\n",
       "      <td>...</td>\n",
       "      <td>0.592513</td>\n",
       "      <td>-0.447916</td>\n",
       "      <td>-0.154701</td>\n",
       "      <td>0.645616</td>\n",
       "      <td>-0.978199</td>\n",
       "      <td>-0.352725</td>\n",
       "      <td>0.029607</td>\n",
       "      <td>0.186247</td>\n",
       "      <td>-0.076592</td>\n",
       "      <td>-0.107114</td>\n",
       "    </tr>\n",
       "    <tr>\n",
       "      <th>...</th>\n",
       "      <td>...</td>\n",
       "      <td>...</td>\n",
       "      <td>...</td>\n",
       "      <td>...</td>\n",
       "      <td>...</td>\n",
       "      <td>...</td>\n",
       "      <td>...</td>\n",
       "      <td>...</td>\n",
       "      <td>...</td>\n",
       "      <td>...</td>\n",
       "      <td>...</td>\n",
       "      <td>...</td>\n",
       "      <td>...</td>\n",
       "      <td>...</td>\n",
       "      <td>...</td>\n",
       "      <td>...</td>\n",
       "      <td>...</td>\n",
       "      <td>...</td>\n",
       "      <td>...</td>\n",
       "      <td>...</td>\n",
       "      <td>...</td>\n",
       "    </tr>\n",
       "    <tr>\n",
       "      <th>6641</th>\n",
       "      <td>gatactagatgtagttgaaaaaagattcaaccacacaatatatagc...</td>\n",
       "      <td>0</td>\n",
       "      <td>-0.939334</td>\n",
       "      <td>-0.752792</td>\n",
       "      <td>-0.355315</td>\n",
       "      <td>-0.209782</td>\n",
       "      <td>-0.644720</td>\n",
       "      <td>-0.147364</td>\n",
       "      <td>0.547578</td>\n",
       "      <td>-0.244620</td>\n",
       "      <td>...</td>\n",
       "      <td>0.592513</td>\n",
       "      <td>-0.447916</td>\n",
       "      <td>-0.154701</td>\n",
       "      <td>0.645616</td>\n",
       "      <td>-0.978199</td>\n",
       "      <td>-0.352725</td>\n",
       "      <td>0.029607</td>\n",
       "      <td>0.186247</td>\n",
       "      <td>-0.076592</td>\n",
       "      <td>-0.107114</td>\n",
       "    </tr>\n",
       "    <tr>\n",
       "      <th>6642</th>\n",
       "      <td>gatactagatgtagttgaaaaaagattcaaccacacaatatatagc...</td>\n",
       "      <td>0</td>\n",
       "      <td>-0.939334</td>\n",
       "      <td>-0.752792</td>\n",
       "      <td>-0.355315</td>\n",
       "      <td>-0.209782</td>\n",
       "      <td>-0.644720</td>\n",
       "      <td>-0.147364</td>\n",
       "      <td>0.547578</td>\n",
       "      <td>-0.244620</td>\n",
       "      <td>...</td>\n",
       "      <td>0.592513</td>\n",
       "      <td>-0.447916</td>\n",
       "      <td>-0.154701</td>\n",
       "      <td>0.645616</td>\n",
       "      <td>-0.978199</td>\n",
       "      <td>-0.352725</td>\n",
       "      <td>0.029607</td>\n",
       "      <td>0.186247</td>\n",
       "      <td>-0.076592</td>\n",
       "      <td>-0.107114</td>\n",
       "    </tr>\n",
       "    <tr>\n",
       "      <th>6643</th>\n",
       "      <td>gatactagatgtagttgaaaaaagattcaaccacacaatatatagc...</td>\n",
       "      <td>0</td>\n",
       "      <td>-0.939334</td>\n",
       "      <td>-0.752792</td>\n",
       "      <td>-0.355315</td>\n",
       "      <td>-0.209782</td>\n",
       "      <td>-0.644720</td>\n",
       "      <td>-0.147364</td>\n",
       "      <td>0.547578</td>\n",
       "      <td>-0.244620</td>\n",
       "      <td>...</td>\n",
       "      <td>0.592513</td>\n",
       "      <td>-0.447916</td>\n",
       "      <td>-0.154701</td>\n",
       "      <td>0.645616</td>\n",
       "      <td>-0.978199</td>\n",
       "      <td>-0.352725</td>\n",
       "      <td>0.029607</td>\n",
       "      <td>0.186247</td>\n",
       "      <td>-0.076592</td>\n",
       "      <td>-0.107114</td>\n",
       "    </tr>\n",
       "    <tr>\n",
       "      <th>6644</th>\n",
       "      <td>gatactagatgtagttgaaaaaagattcaaccacacaatatatagc...</td>\n",
       "      <td>0</td>\n",
       "      <td>-0.939334</td>\n",
       "      <td>-0.752792</td>\n",
       "      <td>-0.355315</td>\n",
       "      <td>-0.209782</td>\n",
       "      <td>-0.644720</td>\n",
       "      <td>-0.147364</td>\n",
       "      <td>0.547578</td>\n",
       "      <td>-0.244620</td>\n",
       "      <td>...</td>\n",
       "      <td>0.592513</td>\n",
       "      <td>-0.447916</td>\n",
       "      <td>-0.154701</td>\n",
       "      <td>0.645616</td>\n",
       "      <td>-0.978199</td>\n",
       "      <td>-0.352725</td>\n",
       "      <td>0.029607</td>\n",
       "      <td>0.186247</td>\n",
       "      <td>-0.076592</td>\n",
       "      <td>-0.107114</td>\n",
       "    </tr>\n",
       "    <tr>\n",
       "      <th>6645</th>\n",
       "      <td>gatactagatgtagttgaaaaaagattcaaccacacaatatatagc...</td>\n",
       "      <td>0</td>\n",
       "      <td>-0.939334</td>\n",
       "      <td>-0.752792</td>\n",
       "      <td>-0.355315</td>\n",
       "      <td>-0.209782</td>\n",
       "      <td>-0.644720</td>\n",
       "      <td>-0.147364</td>\n",
       "      <td>0.547578</td>\n",
       "      <td>-0.244620</td>\n",
       "      <td>...</td>\n",
       "      <td>0.592513</td>\n",
       "      <td>-0.447916</td>\n",
       "      <td>-0.154701</td>\n",
       "      <td>0.645616</td>\n",
       "      <td>-0.978199</td>\n",
       "      <td>-0.352725</td>\n",
       "      <td>0.029607</td>\n",
       "      <td>0.186247</td>\n",
       "      <td>-0.076592</td>\n",
       "      <td>-0.107114</td>\n",
       "    </tr>\n",
       "  </tbody>\n",
       "</table>\n",
       "<p>6646 rows × 1282 columns</p>\n",
       "</div>"
      ],
      "text/plain": [
       "                                              Sequences  Strengths  feature_0  \\\n",
       "0     tagatgtccttgattaacaccaaaattaaaccttttaaaaaccagg...          2  -0.936847   \n",
       "1     aaagaaaataattaattttacagctgttaaaccaaacggttataac...          2  -0.946999   \n",
       "2     ctgctgttccttgcgatcgaaaagatcaagggcggaccggtatccg...          2  -0.946999   \n",
       "3     gcggaagcacaaattgcaccaggtacggaactaaaagccgtagatg...          2  -0.936847   \n",
       "4     aaatacttatggtgcgctggcttctttggaacttgcgcagcaattt...          2  -0.939334   \n",
       "...                                                 ...        ...        ...   \n",
       "6641  gatactagatgtagttgaaaaaagattcaaccacacaatatatagc...          0  -0.939334   \n",
       "6642  gatactagatgtagttgaaaaaagattcaaccacacaatatatagc...          0  -0.939334   \n",
       "6643  gatactagatgtagttgaaaaaagattcaaccacacaatatatagc...          0  -0.939334   \n",
       "6644  gatactagatgtagttgaaaaaagattcaaccacacaatatatagc...          0  -0.939334   \n",
       "6645  gatactagatgtagttgaaaaaagattcaaccacacaatatatagc...          0  -0.939334   \n",
       "\n",
       "      feature_1  feature_2  feature_3  feature_4  feature_5  feature_6  \\\n",
       "0     -0.781433  -0.525665  -0.327091  -0.618907  -0.142214   0.555200   \n",
       "1     -0.824914  -0.470066  -0.244439  -0.711039  -0.126911   0.556981   \n",
       "2     -0.824914  -0.470066  -0.244439  -0.711039  -0.126911   0.556981   \n",
       "3     -0.781433  -0.525665  -0.327091  -0.618907  -0.142214   0.555200   \n",
       "4     -0.752792  -0.355315  -0.209782  -0.644720  -0.147364   0.547578   \n",
       "...         ...        ...        ...        ...        ...        ...   \n",
       "6641  -0.752792  -0.355315  -0.209782  -0.644720  -0.147364   0.547578   \n",
       "6642  -0.752792  -0.355315  -0.209782  -0.644720  -0.147364   0.547578   \n",
       "6643  -0.752792  -0.355315  -0.209782  -0.644720  -0.147364   0.547578   \n",
       "6644  -0.752792  -0.355315  -0.209782  -0.644720  -0.147364   0.547578   \n",
       "6645  -0.752792  -0.355315  -0.209782  -0.644720  -0.147364   0.547578   \n",
       "\n",
       "      feature_7  ...  feature_1270  feature_1271  feature_1272  feature_1273  \\\n",
       "0     -0.227962  ...      0.693298     -0.431873     -0.034174      0.701798   \n",
       "1     -0.249472  ...      0.678970     -0.519048     -0.002377      0.652751   \n",
       "2     -0.249472  ...      0.678970     -0.519048     -0.002377      0.652751   \n",
       "3     -0.227962  ...      0.693298     -0.431873     -0.034174      0.701798   \n",
       "4     -0.244620  ...      0.592513     -0.447916     -0.154701      0.645616   \n",
       "...         ...  ...           ...           ...           ...           ...   \n",
       "6641  -0.244620  ...      0.592513     -0.447916     -0.154701      0.645616   \n",
       "6642  -0.244620  ...      0.592513     -0.447916     -0.154701      0.645616   \n",
       "6643  -0.244620  ...      0.592513     -0.447916     -0.154701      0.645616   \n",
       "6644  -0.244620  ...      0.592513     -0.447916     -0.154701      0.645616   \n",
       "6645  -0.244620  ...      0.592513     -0.447916     -0.154701      0.645616   \n",
       "\n",
       "      feature_1274  feature_1275  feature_1276  feature_1277  feature_1278  \\\n",
       "0        -0.867468     -0.268788     -0.084448      0.357413     -0.061708   \n",
       "1        -0.911779     -0.233074      0.052144      0.210270     -0.042073   \n",
       "2        -0.911779     -0.233074      0.052144      0.210270     -0.042073   \n",
       "3        -0.867468     -0.268788     -0.084448      0.357413     -0.061708   \n",
       "4        -0.978199     -0.352725      0.029607      0.186247     -0.076592   \n",
       "...            ...           ...           ...           ...           ...   \n",
       "6641     -0.978199     -0.352725      0.029607      0.186247     -0.076592   \n",
       "6642     -0.978199     -0.352725      0.029607      0.186247     -0.076592   \n",
       "6643     -0.978199     -0.352725      0.029607      0.186247     -0.076592   \n",
       "6644     -0.978199     -0.352725      0.029607      0.186247     -0.076592   \n",
       "6645     -0.978199     -0.352725      0.029607      0.186247     -0.076592   \n",
       "\n",
       "      feature_1279  \n",
       "0        -0.153779  \n",
       "1        -0.101237  \n",
       "2        -0.101237  \n",
       "3        -0.153779  \n",
       "4        -0.107114  \n",
       "...            ...  \n",
       "6641     -0.107114  \n",
       "6642     -0.107114  \n",
       "6643     -0.107114  \n",
       "6644     -0.107114  \n",
       "6645     -0.107114  \n",
       "\n",
       "[6646 rows x 1282 columns]"
      ]
     },
     "execution_count": 14,
     "metadata": {},
     "output_type": "execute_result"
    }
   ],
   "source": [
    "data = pd.read_csv('classification_fasta_processed.csv')\n",
    "data['Strengths'] = data['Strengths'].replace(1,2)\n",
    "data['Strengths'] = data['Strengths'].replace(0,1)\n",
    "data['Strengths'] = data['Strengths'].replace(-1,0)\n",
    "\n",
    "embeddings = np.load('all_embeddings_100m_mean.npy')\n",
    "num_features = embeddings.shape[1]\n",
    "embeddings_df = pd.DataFrame(data=embeddings, columns=[f'feature_{i}' for i in range(num_features)])\n",
    "combined_df = pd.concat([data, embeddings_df], axis=1)\n",
    "combined_df"
   ]
  },
  {
   "cell_type": "code",
   "execution_count": 15,
   "metadata": {},
   "outputs": [],
   "source": [
    "class_0 = combined_df[combined_df['Strengths'] == 0]\n",
    "class_0_downsampled = resample(class_0, replace=False, n_samples=1473, random_state=42)\n",
    "class_2 = combined_df[combined_df['Strengths']==2]"
   ]
  },
  {
   "cell_type": "code",
   "execution_count": 16,
   "metadata": {},
   "outputs": [],
   "source": [
    "total_df = pd.concat([class_0_downsampled,class_2])\n",
    "total_df['binary_label'] = total_df['Strengths'].apply(lambda x: 1 if x == 2 else 0)\n",
    "X = total_df.drop(['Strengths', 'binary_label', 'Sequences'], axis=1)\n",
    "y = total_df['binary_label']\n",
    "X_train, X_test, y_train, y_test = train_test_split(X, y, test_size=0.3, random_state=42)"
   ]
  },
  {
   "cell_type": "markdown",
   "metadata": {},
   "source": [
    "# Method 1: Random Forest Classifier"
   ]
  },
  {
   "cell_type": "code",
   "execution_count": 19,
   "metadata": {},
   "outputs": [
    {
     "name": "stdout",
     "output_type": "stream",
     "text": [
      "Random Forest Classifier Metrics:\n",
      "Accuracy: 0.8144796380090498\n",
      "F1 Score: 0.7696629213483146\n",
      "Recall: 0.6255707762557078\n",
      "Precision: 1.0\n",
      "Classification Report:\n",
      "               precision    recall  f1-score   support\n",
      "\n",
      "           0       0.73      1.00      0.84       446\n",
      "           1       1.00      0.63      0.77       438\n",
      "\n",
      "    accuracy                           0.81       884\n",
      "   macro avg       0.87      0.81      0.81       884\n",
      "weighted avg       0.86      0.81      0.81       884\n",
      "\n"
     ]
    }
   ],
   "source": [
    "rf_classifier = RandomForestClassifier()\n",
    "\n",
    "# Train the classifier\n",
    "rf_classifier.fit(X_train, y_train)\n",
    "\n",
    "# Make predictions\n",
    "rf_predictions = rf_classifier.predict(X_test)\n",
    "\n",
    "# Evaluate the classifier\n",
    "rf_accuracy = accuracy_score(y_test, rf_predictions)\n",
    "rf_f1 = f1_score(y_test, rf_predictions)\n",
    "rf_recall = recall_score(y_test, rf_predictions)\n",
    "rf_precision = precision_score(y_test, rf_predictions)\n",
    "\n",
    "print(\"Random Forest Classifier Metrics:\")\n",
    "print(\"Accuracy:\", rf_accuracy)\n",
    "print(\"F1 Score:\", rf_f1)\n",
    "print(\"Recall:\", rf_recall)\n",
    "print(\"Precision:\", rf_precision)\n",
    "print(\"Classification Report:\\n\", classification_report(y_test, rf_predictions))"
   ]
  },
  {
   "cell_type": "markdown",
   "metadata": {},
   "source": [
    "# Method 2: XGBoost "
   ]
  },
  {
   "cell_type": "code",
   "execution_count": 17,
   "metadata": {},
   "outputs": [
    {
     "name": "stdout",
     "output_type": "stream",
     "text": [
      "XGBoost Metrics:\n",
      "Accuracy: 0.8144796380090498\n",
      "F1 Score: 0.7696629213483146\n",
      "Recall: 0.6255707762557078\n",
      "Precision: 1.0\n",
      "Classification Report:\n",
      "               precision    recall  f1-score   support\n",
      "\n",
      "           0       0.73      1.00      0.84       446\n",
      "           1       1.00      0.63      0.77       438\n",
      "\n",
      "    accuracy                           0.81       884\n",
      "   macro avg       0.87      0.81      0.81       884\n",
      "weighted avg       0.86      0.81      0.81       884\n",
      "\n"
     ]
    }
   ],
   "source": [
    "model = xgb.XGBClassifier(use_label_encoder=False, eval_metric='logloss')\n",
    "model.fit(X_train, y_train)\n",
    "\n",
    "# Predictions\n",
    "y_pred = model.predict(X_test)\n",
    "\n",
    "# Evaluation\n",
    "accuracy = accuracy_score(y_test, y_pred)\n",
    "f1 = f1_score(y_test, y_pred)\n",
    "recall = recall_score(y_test, y_pred)\n",
    "precision = precision_score(y_test, y_pred)\n",
    "\n",
    "print(\"XGBoost Metrics:\")\n",
    "print(\"Accuracy:\", accuracy)\n",
    "print(\"F1 Score:\", f1)\n",
    "print(\"Recall:\", recall)\n",
    "print(\"Precision:\", precision)\n",
    "print(\"Classification Report:\\n\", classification_report(y_test, y_pred))"
   ]
  },
  {
   "cell_type": "markdown",
   "metadata": {},
   "source": [
    "## Method 3: SVC"
   ]
  },
  {
   "cell_type": "code",
   "execution_count": 21,
   "metadata": {},
   "outputs": [
    {
     "name": "stdout",
     "output_type": "stream",
     "text": [
      "Support Vector Classifier Metrics:\n",
      "Accuracy: 0.8144796380090498\n",
      "F1 Score: 0.7696629213483146\n",
      "Recall: 0.6255707762557078\n",
      "Precision: 1.0\n",
      "Classification Report:\n",
      "               precision    recall  f1-score   support\n",
      "\n",
      "           0       0.73      1.00      0.84       446\n",
      "           1       1.00      0.63      0.77       438\n",
      "\n",
      "    accuracy                           0.81       884\n",
      "   macro avg       0.87      0.81      0.81       884\n",
      "weighted avg       0.86      0.81      0.81       884\n",
      "\n"
     ]
    }
   ],
   "source": [
    "# Initialize the Support Vector Classifier\n",
    "svc_classifier = SVC()\n",
    "\n",
    "# Train the classifier\n",
    "svc_classifier.fit(X_train, y_train)\n",
    "\n",
    "# Make predictions\n",
    "svc_predictions = svc_classifier.predict(X_test)\n",
    "\n",
    "# Evaluate the classifier\n",
    "svc_accuracy = accuracy_score(y_test, svc_predictions)\n",
    "svc_f1 = f1_score(y_test, svc_predictions)\n",
    "svc_recall = recall_score(y_test, svc_predictions)\n",
    "svc_precision = precision_score(y_test, svc_predictions)\n",
    "\n",
    "print(\"Support Vector Classifier Metrics:\")\n",
    "print(\"Accuracy:\", svc_accuracy)\n",
    "print(\"F1 Score:\", svc_f1)\n",
    "print(\"Recall:\", svc_recall)\n",
    "print(\"Precision:\", svc_precision)\n",
    "print(\"Classification Report:\\n\", classification_report(y_test, svc_predictions))\n"
   ]
  },
  {
   "cell_type": "markdown",
   "metadata": {},
   "source": [
    "## Method 4: Logistic Regression"
   ]
  },
  {
   "cell_type": "code",
   "execution_count": 22,
   "metadata": {},
   "outputs": [
    {
     "name": "stdout",
     "output_type": "stream",
     "text": [
      "Linear Regression Metrics:\n",
      "Accuracy: 0.8144796380090498\n",
      "F1 Score: 0.7696629213483146\n",
      "Recall: 0.6255707762557078\n",
      "Precision: 1.0\n",
      "Classification Report:\n",
      "               precision    recall  f1-score   support\n",
      "\n",
      "           0       0.73      1.00      0.84       446\n",
      "           1       1.00      0.63      0.77       438\n",
      "\n",
      "    accuracy                           0.81       884\n",
      "   macro avg       0.87      0.81      0.81       884\n",
      "weighted avg       0.86      0.81      0.81       884\n",
      "\n"
     ]
    }
   ],
   "source": [
    "lr_classifier = LogisticRegression()\n",
    "lr_classifier.fit(X_train, y_train)\n",
    "\n",
    "# Evaluate the classifier\n",
    "lr_predictions = lr_classifier.predict(X_test)\n",
    "\n",
    "# Evaluate the classifier\n",
    "lr_accuracy = accuracy_score(y_test, lr_predictions)\n",
    "lr_f1 = f1_score(y_test, lr_predictions)\n",
    "lr_recall = recall_score(y_test, lr_predictions)\n",
    "lr_precision = precision_score(y_test, lr_predictions)\n",
    "\n",
    "print(\"Linear Regression Metrics:\")\n",
    "print(\"Accuracy:\", lr_accuracy)\n",
    "print(\"F1 Score:\", lr_f1)\n",
    "print(\"Recall:\", lr_recall)\n",
    "print(\"Precision:\", lr_precision)\n",
    "print(\"Classification Report:\\n\", classification_report(y_test, lr_predictions))"
   ]
  },
  {
   "cell_type": "markdown",
   "metadata": {},
   "source": [
    "## Method 5: Decision Tree"
   ]
  },
  {
   "cell_type": "code",
   "execution_count": 24,
   "metadata": {},
   "outputs": [
    {
     "name": "stdout",
     "output_type": "stream",
     "text": [
      "Decision Tree Statistics:\n",
      "Accuracy: 0.8144796380090498\n",
      "F1 Score: 0.7696629213483146\n",
      "Recall: 0.6255707762557078\n",
      "Precision: 1.0\n",
      "Classification Report:\n",
      "               precision    recall  f1-score   support\n",
      "\n",
      "           0       0.73      1.00      0.84       446\n",
      "           1       1.00      0.63      0.77       438\n",
      "\n",
      "    accuracy                           0.81       884\n",
      "   macro avg       0.87      0.81      0.81       884\n",
      "weighted avg       0.86      0.81      0.81       884\n",
      "\n"
     ]
    }
   ],
   "source": [
    "dt_model = DecisionTreeClassifier()  # Use DecisionTreeClassifier instead of SVC\n",
    "dt_model.fit(X_train, y_train)\n",
    "# Make predictions on the test set\n",
    "dt_pred = dt_model.predict(X_test)\n",
    "# Evaluate the model\n",
    "print(\"Decision Tree Statistics:\")\n",
    "print(f\"Accuracy: {accuracy_score(y_test, dt_pred)}\")\n",
    "print(\"F1 Score:\", f1_score(y_test, dt_pred))\n",
    "print(\"Recall:\", recall_score(y_test, dt_pred))\n",
    "print(\"Precision:\", precision_score(y_test, dt_pred))\n",
    "print(\"Classification Report:\\n\", classification_report(y_test, dt_pred))"
   ]
  },
  {
   "cell_type": "markdown",
   "metadata": {},
   "source": [
    "## Method 6: KNN"
   ]
  },
  {
   "cell_type": "code",
   "execution_count": 25,
   "metadata": {},
   "outputs": [
    {
     "name": "stdout",
     "output_type": "stream",
     "text": [
      "K-Nearest Neighbors Statistics:\n",
      "Accuracy: 0.8144796380090498\n",
      "F1 Score: 0.7696629213483146\n",
      "Recall: 0.6255707762557078\n",
      "Precision: 1.0\n",
      "Classification Report:\n",
      "               precision    recall  f1-score   support\n",
      "\n",
      "           0       0.73      1.00      0.84       446\n",
      "           1       1.00      0.63      0.77       438\n",
      "\n",
      "    accuracy                           0.81       884\n",
      "   macro avg       0.87      0.81      0.81       884\n",
      "weighted avg       0.86      0.81      0.81       884\n",
      "\n"
     ]
    }
   ],
   "source": [
    "# Create and train the KNN model\n",
    "knn_model = KNeighborsClassifier()\n",
    "knn_model.fit(X_train, y_train)\n",
    "# Make predictions on the test set\n",
    "knn_pred = knn_model.predict(X_test)\n",
    "# Evaluate the model\n",
    "print(\"K-Nearest Neighbors Statistics:\")\n",
    "print(f\"Accuracy: {accuracy_score(y_test, knn_pred)}\")\n",
    "print(\"F1 Score:\", f1_score(y_test, knn_pred))\n",
    "print(\"Recall:\", recall_score(y_test, knn_pred))\n",
    "print(\"Precision:\", precision_score(y_test, knn_pred))\n",
    "print(\"Classification Report:\\n\", classification_report(y_test, knn_pred))"
   ]
  },
  {
   "cell_type": "markdown",
   "metadata": {},
   "source": [
    "## Method 7: Gaussian Naive Bayes"
   ]
  },
  {
   "cell_type": "code",
   "execution_count": 26,
   "metadata": {},
   "outputs": [
    {
     "name": "stdout",
     "output_type": "stream",
     "text": [
      "Gaussian Naive Bayes Statistics:\n",
      "Accuracy: 0.8144796380090498\n",
      "F1 Score: 0.7696629213483146\n",
      "Recall: 0.6255707762557078\n",
      "Precision: 1.0\n",
      "Classification Report:\n",
      "               precision    recall  f1-score   support\n",
      "\n",
      "           0       0.73      1.00      0.84       446\n",
      "           1       1.00      0.63      0.77       438\n",
      "\n",
      "    accuracy                           0.81       884\n",
      "   macro avg       0.87      0.81      0.81       884\n",
      "weighted avg       0.86      0.81      0.81       884\n",
      "\n"
     ]
    }
   ],
   "source": [
    "# Create and train the Naive Bayes model\n",
    "gb_model = GaussianNB()\n",
    "gb_model.fit(X_train, y_train)\n",
    "# Make predictions on the test set\n",
    "gb_pred = gb_model.predict(X_test)\n",
    "# Evaluate the model\n",
    "print(\"Gaussian Naive Bayes Statistics:\")\n",
    "print(f\"Accuracy: {accuracy_score(y_test, gb_pred)}\")\n",
    "print(\"F1 Score:\", f1_score(y_test, gb_pred))\n",
    "print(\"Recall:\", recall_score(y_test, gb_pred))\n",
    "print(\"Precision:\", precision_score(y_test, gb_pred))\n",
    "print(\"Classification Report:\\n\", classification_report(y_test, gb_pred))"
   ]
  },
  {
   "cell_type": "markdown",
   "metadata": {},
   "source": [
    "## Method 8: AdaBoost"
   ]
  },
  {
   "cell_type": "code",
   "execution_count": 27,
   "metadata": {},
   "outputs": [
    {
     "name": "stdout",
     "output_type": "stream",
     "text": [
      "Adaboost Statistics:\n",
      "Accuracy: 0.8144796380090498\n",
      "F1 Score: 0.7696629213483146\n",
      "Recall: 0.6255707762557078\n",
      "Precision: 1.0\n",
      "Classification Report:\n",
      "               precision    recall  f1-score   support\n",
      "\n",
      "           0       0.73      1.00      0.84       446\n",
      "           1       1.00      0.63      0.77       438\n",
      "\n",
      "    accuracy                           0.81       884\n",
      "   macro avg       0.87      0.81      0.81       884\n",
      "weighted avg       0.86      0.81      0.81       884\n",
      "\n"
     ]
    }
   ],
   "source": [
    "# Create and train the AdaBoost model\n",
    "ada_model = AdaBoostClassifier()\n",
    "ada_model.fit(X_train, y_train)\n",
    "# Make predictions on the test set\n",
    "ada_pred = ada_model.predict(X_test)\n",
    "# Evaluate the model\n",
    "print(\"Adaboost Statistics:\")\n",
    "print(f\"Accuracy: {accuracy_score(y_test, ada_pred)}\")\n",
    "print(\"F1 Score:\", f1_score(y_test, ada_pred))\n",
    "print(\"Recall:\", recall_score(y_test, ada_pred))\n",
    "print(\"Precision:\", precision_score(y_test, ada_pred))\n",
    "print(\"Classification Report:\\n\", classification_report(y_test, ada_pred))"
   ]
  },
  {
   "cell_type": "markdown",
   "metadata": {},
   "source": [
    "## Confusion Matrix "
   ]
  },
  {
   "cell_type": "code",
   "execution_count": 18,
   "metadata": {},
   "outputs": [
    {
     "data": {
      "image/png": "[encoded data removed]",
      "text/plain": [
       "<Figure size 800x600 with 1 Axes>"
      ]
     },
     "metadata": {},
     "output_type": "display_data"
    }
   ],
   "source": [
    "conf_matrix = confusion_matrix(y_test, y_pred)\n",
    "\n",
    "plt.figure(figsize=(8, 6))\n",
    "sns.heatmap(conf_matrix, annot=True, fmt='d', cmap='Blues', cbar=False, \n",
    "            xticklabels=['Class 0', 'Class 1'], \n",
    "            yticklabels=['Class 0', 'Class 1'])\n",
    "plt.title('Binary Classification with Downsampling: Confusion Matrix with XGBoost')\n",
    "plt.xlabel('Predicted')\n",
    "plt.ylabel('Actual')\n",
    "plt.show()"
   ]
  }
 ],
 "metadata": {
  "kernelspec": {
   "display_name": "Python 3",
   "language": "python",
   "name": "python3"
  },
  "language_info": {
   "codemirror_mode": {
    "name": "ipython",
    "version": 3
   },
   "file_extension": ".py",
   "mimetype": "text/x-python",
   "name": "python",
   "nbconvert_exporter": "python",
   "pygments_lexer": "ipython3",
   "version": "3.9.7"
  }
 },
 "nbformat": 4,
 "nbformat_minor": 2
}
