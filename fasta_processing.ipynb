{
 "cells": [
  {
   "cell_type": "code",
   "execution_count": 55,
   "metadata": {},
   "outputs": [],
   "source": [
    "import pandas as pd"
   ]
  },
  {
   "cell_type": "code",
   "execution_count": 56,
   "metadata": {},
   "outputs": [],
   "source": [
    "file_path = '1-s2.0-S088875431830613X-mmc1.txt'\n",
    "file_path = 'output_new.fasta'\n",
    "with open(file_path, 'r') as file:\n",
    "    # Read all lines into a list\n",
    "    lines = file.readlines()\n",
    "    # lines = [line for line in file if line.strip()]"
   ]
  },
  {
   "cell_type": "code",
   "execution_count": 51,
   "metadata": {},
   "outputs": [],
   "source": [
    "\n",
    "# exceptions = []\n",
    "# sequences = []\n",
    "# strengths = []\n",
    "\n",
    "# # Open the file in read mode ('r')\n",
    "# for i in range(len(lines)):\n",
    "#     # line = lines[i]\n",
    "# #     if line[0][0] == \">\":\n",
    "# #         if line.split()[0] == \">non-promoter\":\n",
    "# #             strength = \"non-promoter\" #-1\n",
    "# #         else:\n",
    "# #             strength = line.split()[-1] #0, 1\n",
    "# #         strengths.append(strength)\n",
    "\n",
    "# #     else:\n",
    "# #         seqSplit = line.strip()\n",
    "# #         if \">\" in line:\n",
    "# #             # print(seq)\n",
    "# #             exceptions.append(line)\n",
    "# #         # print(seq)\n",
    "# #         elif i+1 != len(lines):\n",
    "# #             if lines[i+1][0][0] != \">\":\n",
    "# #                 # print(lines[i+1])\n",
    "# #                 seq += lines[i+1].strip()\n",
    "# #                 i +=1 \n",
    "# #         sequences.append(seq)\n",
    "\n",
    "# # # Create a DataFrame from the lists\n",
    "# # data = {'Sequences': sequences}\n",
    "# # df = pd.DataFrame(data)\n",
    "# # data2 = {'Strength': strengths}\n",
    "# # df2 = pd.DataFrame(data2)\n",
    "# # for e in exceptions:\n",
    "# #     print(e)# Print the DataFrame\n",
    "# # # print(df)"
   ]
  },
  {
   "cell_type": "code",
   "execution_count": 65,
   "metadata": {},
   "outputs": [
    {
     "name": "stdout",
     "output_type": "stream",
     "text": [
      "6646\n",
      "6646\n",
      "                                              Sequences  Strengths\n",
      "0     tagatgtccttgattaacaccaaaattaaaccttttaaaaaccagg...          1\n",
      "1     aaagaaaataattaattttacagctgttaaaccaaacggttataac...          1\n",
      "2     ctgctgttccttgcgatcgaaaagatcaagggcggaccggtatccg...          1\n",
      "3     gcggaagcacaaattgcaccaggtacggaactaaaagccgtagatg...          1\n",
      "4     aaatacttatggtgcgctggcttctttggaacttgcgcagcaattt...          1\n",
      "...                                                 ...        ...\n",
      "6641  gatactagatgtagttgaaaaaagattcaaccacacaatatatagc...         -1\n",
      "6642  gatactagatgtagttgaaaaaagattcaaccacacaatatatagc...         -1\n",
      "6643  gatactagatgtagttgaaaaaagattcaaccacacaatatatagc...         -1\n",
      "6644  gatactagatgtagttgaaaaaagattcaaccacacaatatatagc...         -1\n",
      "6645  gatactagatgtagttgaaaaaagattcaaccacacaatatatagc...         -1\n",
      "\n",
      "[6646 rows x 2 columns]\n"
     ]
    }
   ],
   "source": [
    "strengths = []\n",
    "sequences = []\n",
    "for i in range(len(lines)):\n",
    "    line = lines[i]\n",
    "    if line[0][0] == \">\":\n",
    "        if line.split()[-1] == \"Weak\" or line.split()[-1] == \"Strong\":\n",
    "            if line.split()[-1] == \"Weak\":\n",
    "                strength = 0\n",
    "            else:\n",
    "                strength = 1\n",
    "\n",
    "            if lines[i+1] != len(lines):\n",
    "                seq = lines[i+1].split(\">\")[0]\n",
    "                if lines[i+2] != len(lines):\n",
    "                    seq += lines[i+2].split(\">\")[0]\n",
    "                    i += 1\n",
    "                i += 1\n",
    "            strengths.append(strength)\n",
    "            sequences.append(seq)\n",
    "        elif line.split()[0] == \">non-promoter\":\n",
    "            strength = -1\n",
    "\n",
    "            if i+1 > len(lines):\n",
    "                seq = lines[i+1].split(\">\")[0]\n",
    "                if i+2 > len(lines):\n",
    "                    seq += lines[i+2].split(\">\")[0]\n",
    "                    i += 1\n",
    "                i += 1\n",
    "            strengths.append(strength)\n",
    "            sequences.append(seq)\n",
    "        else:\n",
    "            if lines[i+1] != len(lines):\n",
    "                seq = lines[i+1].split(\"<\")[0]\n",
    "                if lines[i+2] != len(lines):\n",
    "                    seq += lines[i+2].split(\"<\")[0]\n",
    "                    i += 1\n",
    "                i += 1\n",
    "print(len(sequences))\n",
    "print(len(strengths))\n",
    "\n",
    "data = {'Sequences': sequences, \"Strengths\": strengths}\n",
    "df = pd.DataFrame(data)\n",
    "print(df)\n",
    "\n",
    "output_csv_path = 'promoter_processed.csv'\n",
    "df.to_csv(output_csv_path, index=False)"
   ]
  }
 ],
 "metadata": {
  "kernelspec": {
   "display_name": "research-env",
   "language": "python",
   "name": "python3"
  },
  "language_info": {
   "codemirror_mode": {
    "name": "ipython",
    "version": 3
   },
   "file_extension": ".py",
   "mimetype": "text/x-python",
   "name": "python",
   "nbconvert_exporter": "python",
   "pygments_lexer": "ipython3",
   "version": "3.9.7"
  }
 },
 "nbformat": 4,
 "nbformat_minor": 2
}
